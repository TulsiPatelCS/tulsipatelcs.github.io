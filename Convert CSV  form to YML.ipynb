{
 "cells": [
  {
   "cell_type": "code",
   "execution_count": 142,
   "id": "0769058e",
   "metadata": {},
   "outputs": [],
   "source": [
    "import csv\n",
    "import numpy as np\n",
    "import os\n",
    "import glob\n",
    "import yaml\n",
    "from yaml.loader import SafeLoader"
   ]
  },
  {
   "cell_type": "code",
   "execution_count": 143,
   "id": "cad920ad",
   "metadata": {},
   "outputs": [
    {
     "data": {
      "text/plain": [
       "'C:\\\\Users\\\\Tulsi\\\\Documents\\\\GitHub\\\\test.github.io'"
      ]
     },
     "execution_count": 143,
     "metadata": {},
     "output_type": "execute_result"
    }
   ],
   "source": [
    "os.getcwd()"
   ]
  },
  {
   "cell_type": "code",
   "execution_count": 144,
   "id": "0712aae6",
   "metadata": {},
   "outputs": [
    {
     "name": "stdout",
     "output_type": "stream",
     "text": [
      "Human Centred Research Web Presence - Person Form(1-6).csv\n",
      "Human Centred Research Web Presence - Project form(1-1).csv\n"
     ]
    }
   ],
   "source": [
    "forms = []\n",
    "for path in os.listdir(os.getcwd()+\"\\\\forms\\\\\"):\n",
    "    # check if current path is a file\n",
    "    print(path)\n",
    "    if (\"person\" in path.lower()):\n",
    "        forms.append(path)\n",
    "    elif (\"project\" in path.lower()):\n",
    "        forms.append(path)\n"
   ]
  },
  {
   "cell_type": "code",
   "execution_count": 145,
   "id": "26aa59ca",
   "metadata": {},
   "outputs": [
    {
     "data": {
      "text/plain": [
       "['Human Centred Research Web Presence - Person Form(1-6).csv',\n",
       " 'Human Centred Research Web Presence - Project form(1-1).csv']"
      ]
     },
     "execution_count": 145,
     "metadata": {},
     "output_type": "execute_result"
    }
   ],
   "source": [
    "forms"
   ]
  },
  {
   "cell_type": "code",
   "execution_count": 146,
   "id": "2e27af84",
   "metadata": {},
   "outputs": [],
   "source": [
    "file_reader = []\n",
    "with open(os.path.join(os.getcwd() + \"\\\\forms\\\\\",forms[0]),encoding = \"utf8\") as csvfile:\n",
    "    spamreader = csv.reader(csvfile, delimiter=',', quotechar='|')\n",
    "    for row in spamreader:\n",
    "        file_reader.append(row)"
   ]
  },
  {
   "cell_type": "code",
   "execution_count": 147,
   "id": "b10aa40d",
   "metadata": {},
   "outputs": [
    {
     "name": "stderr",
     "output_type": "stream",
     "text": [
      "<ipython-input-147-b76680d3638e>:1: VisibleDeprecationWarning: Creating an ndarray from ragged nested sequences (which is a list-or-tuple of lists-or-tuples-or ndarrays with different lengths or shapes) is deprecated. If you meant to do this, you must specify 'dtype=object' when creating the ndarray.\n",
      "  file_reader = np.array(file_reader)\n"
     ]
    }
   ],
   "source": [
    "file_reader = np.array(file_reader)"
   ]
  },
  {
   "cell_type": "code",
   "execution_count": 148,
   "id": "13f284c0",
   "metadata": {},
   "outputs": [
    {
     "data": {
      "text/plain": [
       "['1',\n",
       " '10/31/22 10:18:36',\n",
       " '10/31/22 10:22:31',\n",
       " 'peter.daish@Swansea.ac.uk',\n",
       " 'Peter Daish',\n",
       " 'Peter Daish',\n",
       " '\"Peter has been at Swansea University since 2017',\n",
       " ' where he undertook an undergraduate degree in software engineering (BSc). In 2020',\n",
       " ' Peter achieved a bachelors\\' degree in Software Engineering under the supervision of Dr. Matt Roach and successfully secured a scholarship with the Economic and Social Research Council (ESRC) for a 1+3 Masters and PhD in the field of Fair Machine-Learning.\"',\n",
       " 'https://swanseauniversity-my.sharepoint.com/personal/m_j_roach_swansea_ac_uk/Documents/Apps/Microsoft%20Forms/Human%20Centred%20Research%20Web%20presence%20form/Question/profile-150x150_Peter%20Daish.jpg',\n",
       " 'Human Centred Design;Human-Centred AI Interaction;Constraint & Social Responsibility;Digital Economy;',\n",
       " 'PGR',\n",
       " 'https://www.linkedin.com/in/peter-daish-b767a4130/']"
      ]
     },
     "execution_count": 148,
     "metadata": {},
     "output_type": "execute_result"
    }
   ],
   "source": [
    "file_reader[1]"
   ]
  },
  {
   "cell_type": "code",
   "execution_count": 152,
   "id": "bf2e3af6",
   "metadata": {},
   "outputs": [
    {
     "data": {
      "text/plain": [
       "'FB_IMG_1649623607869_EMILY ESTHER NIELSEN.jpg'"
      ]
     },
     "execution_count": 152,
     "metadata": {},
     "output_type": "execute_result"
    }
   ],
   "source": [
    "x[-4].split(\"/\")[-1].replace(\"%20\", \" \")"
   ]
  },
  {
   "cell_type": "code",
   "execution_count": 154,
   "id": "bda423fa",
   "metadata": {},
   "outputs": [
    {
     "name": "stdout",
     "output_type": "stream",
     "text": [
      "['\\ufeffID', 'Start time', 'Completion time', 'Email', 'Name', 'Display Name', 'Bio', 'Image (Headshot Photo)', 'Topic tags (Tick all that relate to you)', 'Role', 'Your home page URL']\n",
      "['1', '10/31/22 10:18:36', '10/31/22 10:22:31', 'peter.daish@Swansea.ac.uk', 'Peter Daish', 'Peter Daish', '\"Peter has been at Swansea University since 2017 where he undertook an undergraduate degree in software engineering (BSc). In 2020 Peter achieved a bachelors\\' degree in Software Engineering under the supervision of Dr. Matt Roach and successfully secured a scholarship with the Economic and Social Research Council (ESRC) for a 1+3 Masters and PhD in the field of Fair Machine-Learning.\"', 'profile-150x150_Peter Daish.jpg', 'Human Centred Design;Human-Centred AI Interaction;Constraint & Social Responsibility;Digital Economy;', 'PGR', 'https://www.linkedin.com/in/peter-daish-b767a4130/']\n",
      "['2', '11/2/22 10:22:50', '11/2/22 10:28:42', 'nicholas.micallef@Swansea.ac.uk', 'Nicholas Micallef', 'Dr Nicholas Micallef', '\"Dr Nicholas Micallef is a Lecturer at Swansea University. His research interests include Misinformation Usable Security and Privacy Authentication and Mobile HCI. His recent research focuses on misinformation both from a data-driven and human aspects perspective. In his previous role at New York University Abu Dhabi he was involved in various projects that studied the countering of misinformation and the spreading of cross-platform multimodal misinformation. In his position at the University of New South Wales his research focused on designing privacy-enhancing technologies that provide users with realistic information to anonymize their online identities. Dr. Micallef obtained his PhD from Glasgow Caledonian University United Kingdom. In his PhD he investigated the use of mobile sensing to improve the usability of smartphone authentication. \"', 'headshot_small640_Nicholas Micallef.png', 'Human Centred Design;Human-Centred AI Interaction;Useable Security and Privacy;Emergent Users & Technology Resource\\xa0Constraint ;', 'Academic', '']\n",
      "['3', '11/2/22 10:34:19', '11/2/22 10:39:32', 'm.a.w.porcheron@Swansea.ac.uk', 'Martin Porcheron', 'Martin Porcheron', '\"Dr Martin Porcheron is a Senior Lecturer in the Department of Computer Science. His research is in the areas of human-computer interaction and computer-supported cooperative work his recent research focuses on the user experience of interactive “AI” systems—from voice interfaces through to robot interfaces. He primarily adopts human-centred design approaches including ethnography user studies and focus groups to study and inform the design of novel technologies\"', 'MartinPorcheron2022-square_Martin Porcheron.png', 'Human Centred Design;Human-Centred AI Interaction;Speech and Language Technology;Human Robot Interaction;', 'Academic', 'https://www.porcheron.uk/']\n",
      "['4', '11/2/22 17:42:30', '11/2/22 17:46:30', '2138010@Swansea.ac.uk', 'PRANJAL JAIN', 'Pranjal Jain', '\"Pranjal is a PhD Researcher in the Centre for Doctoral Training at Swansea University UK where he focuses on enhancing human interactions and collaborations with intelligence-driven systems. Previously he has designed digital products and services with empathy focusing on users’ needs. He did his postgraduate and undergraduate studies in Human-Centred Design (HCD) and Electronics Engineering in India.His HCI journey started at the INTERACT 2017 conference where he was a student volunteer. His first formal introduction went beyond User Experience (UX). Since then he has led initiatives enabling students and practitioners to share knowledge and build professional relationships.Since 2018 he has also been involved with India HCI the annual HCI conference in cooperation with ACM. He has been building a community across borders in South Asia involving professionals researchers and many SIGCHI members from India BangladesSri Lanka & Pakistan. He is passionate about building bridges between Global North and Global South. His area of interest lies in Human-Centred AI Mixed Reality ICTD Design Research Ethics and Algorithms.\"', 'Pranjal Jain 2021_PRANJAL JAIN.jpg', 'Human Centred Design;Human-Centred AI Interaction;Tangible User Interfaces;Useable Security and Privacy;Digital Economy;', 'PGR', 'https://www.pranjaljain.in/']\n",
      "['5', '11/3/22 11:05:34', '11/3/22 11:10:49', 'd.p.scott@Swansea.ac.uk', 'Darren Scott', 'Darren Scott', '\"Research Assistant with an interest into how AI can enhance and revolutionise the world around us while not completely boxing out the people interacting with these technologies. PhD work on the possibilities presented by AI in fitness technologies and currently working on an NHS project investigating machine learning in the healthcare space.\"', '20220608_111927_Darren Scott.jpg', 'Human-Centred AI Interaction;Health & Wellbeing;Human Centred Design;', 'PDRA', '']\n",
      "['6', '11/3/22 13:12:44', '11/3/22 13:24:46', '902549@Swansea.ac.uk', 'EMILY ESTHER NIELSEN', 'Emily Nielsen ', '\"I am a PhD student with a background in mathematics. My research uses a patient focused approach to investigate how to empower rare disease patients during their journey towards diagnosis. More specifically it will explore whether a machine learning based platform can enable rare disease patients to have earlier discussions with their healthcare providers and provide patients with a stronger voice in their journey towards diagnosis.\"', 'FB_IMG_1649623607869_EMILY ESTHER NIELSEN.jpg', 'Human Centred Design;Health & Wellbeing;', 'PGR', 'https://www.linkedin.com/in/emily-esther-nielsen/']\n"
     ]
    }
   ],
   "source": [
    "people = []\n",
    "\n",
    "for x in file_reader:\n",
    "        person = []\n",
    "        bio = \"\"\n",
    "        for y in x[6:-4]:\n",
    "            bio = bio+ y\n",
    "        person.extend(x[0:6])\n",
    "        person.extend([bio])\n",
    "        person.extend([x[-4].split(\"/\")[-1].replace(\"%20\", \" \")]) #print(my_string.split(\"world\",1)[1])\n",
    "        person.extend(x[-3:])\n",
    "        print(person)\n",
    "        people.append(person)\n",
    "del people[0]"
   ]
  },
  {
   "cell_type": "code",
   "execution_count": 155,
   "id": "a7318f3d",
   "metadata": {},
   "outputs": [
    {
     "data": {
      "text/plain": [
       "'headshot_small640_Nicholas Micallef.png'"
      ]
     },
     "execution_count": 155,
     "metadata": {},
     "output_type": "execute_result"
    }
   ],
   "source": [
    "people[1][7]"
   ]
  },
  {
   "cell_type": "code",
   "execution_count": 156,
   "id": "c51c21b6",
   "metadata": {},
   "outputs": [],
   "source": [
    "people_data_path = os.getcwd()+\"\\\\_data\"+\"\\\\people.yml\""
   ]
  },
  {
   "cell_type": "code",
   "execution_count": 157,
   "id": "0cdf8215",
   "metadata": {},
   "outputs": [
    {
     "name": "stdout",
     "output_type": "stream",
     "text": [
      "{'matt': {'display_name': 'Dr Matt Roach', 'webpage': 'https://www.swansea.ac.uk/staff/m.j.roach/#d.en.89036', 'image': '/img/people/Roach_Profile_CS.jpg', 'role': 'faculty'}, 'simon': {'display_name': 'Dr Simon Robinson', 'webpage': 'https://www.swansea.ac.uk/staff/s.n.w.robinson/#d.en.86531', 'image': '/img/people/simon-robinson.webp', 'role': 'faculty'}, 'nicholas': {'display_name': 'Dr Nicholas Micallef', 'role': 'faculty', 'image': '/img/people/nicholas.png'}, 'muneeb': {'display_name': 'Dr Muneeb Ahmad', 'webpage': 'https://www.swansea.ac.uk/staff/m.i.ahmad/', 'role': 'faculty', 'image': '/img/people/muneeb.png'}, 'gavin': {'display_name': 'Gavin Bailey', 'role': 'faculty', 'image': '/img/people/gavin.png'}, 'alan': {'display_name': 'Professor Alan Dix', 'webpage': 'https://www.swansea.ac.uk/staff/a.j.dix/', 'image': '/img/people/alan.png', 'role': 'faculty'}, 'shane': {'display_name': 'Dr Shane Fleming', 'webpage': 'https://www.swansea.ac.uk/staff/s.t.fleming/', 'role': 'faculty', 'image': '/img/people/shane.png'}, 'mattJones': {'display_name': 'Professor Matt Jones', 'webpage': 'https://www.swansea.ac.uk/staff/matt.jones/#d.en.86411', 'role': 'faculty', 'image': '/img/people/mattjones.png'}, 'joe': {'display_name': 'Dr Joe Macinnes', 'webpage': 'https://www.swansea.ac.uk/staff/william.macinnes/', 'role': 'faculty', 'image': '/img/people/joemacinnes.png'}, 'tomowen': {'display_name': 'Dr Tom Owen', 'webpage': 'https://www.swansea.ac.uk/staff/t.owen/', 'role': 'faculty', 'image': '/img/people/tomowen.png'}, 'jenPearson': {'display_name': 'Dr Jen Pearson', 'webpage': 'https://www.swansea.ac.uk/staff/j.pearson/', 'role': 'faculty', 'image': '/img/people/jenpearson.png'}, 'martinporcheron': {'display_name': 'Dr Martin Porcheron', 'webpage': 'https://www.swansea.ac.uk/staff/m.a.w.porcheron/#d.en.92518', 'role': 'faculty', 'image': '/img/people/martinporcheron.png'}, 'almarahat': {'display_name': 'Dr Alma Rahat', 'webpage': 'https://www.swansea.ac.uk/staff/a.a.m.rahat/', 'role': 'faculty', 'image': '/img/people/alamarahat.png'}, 'thomasreitmaier': {'display_name': 'Dr Thomas Reitmaier', 'webpage': 'https://www.swansea.ac.uk/staff/thomas.reitmaier/', 'role': 'faculty', 'image': '/img/people/thomasreitmaier.png'}, 'solmazsafari': {'display_name': 'Mrs Solmaz Safari', 'webpage': 'https://www.swansea.ac.uk/staff/solmaz.safari/', 'role': 'faculty', 'image': '/img/people/solmazsafari.png'}, 'deepaksahoo': {'display_name': 'Dr Deepak Sahoo', 'webpage': 'https://www.swansea.ac.uk/staff/d.r.sahoo/', 'role': 'faculty', 'image': '/img/people/deepaksahoo.png'}, 'seanwalton': {'display_name': 'Dr Sean Walton', 'webpage': 'https://www.swansea.ac.uk/staff/s.p.walton/#d.en.89970', 'role': 'faculty', 'image': '/img/people/seanwalton.png'}, 'adamwyner': {'display_name': 'Dr Adam Wyner', 'webpage': 'https://www.swansea.ac.uk/staff/a.z.wyner/', 'role': 'faculty', 'image': '/img/people/adamwyner.png'}, 'darrenscott': {'display_name': 'Darren Scott', 'role': 'faculty'}, 'chat': {'display_name': 'Chat Wacharamanotham', 'role': 'faculty'}, 'grad-a': {'display_name': 'Peter Daish', 'role': 'grad'}, 'grad-b': {'display_name': 'Pranjal Jain', 'role': 'grad'}, 'grad-c': {'display_name': 'Rabi Bunza', 'role': 'grad'}, 'grad-d': {'display_name': 'Tulsi Patel', 'role': 'grad'}, 'alum-a': {'display_name': 'Alum A', 'role': 'alum', 'bio': 'Ph.D., 2013. Now at Microsoft Research.'}, 'alum-b': {'display_name': 'Alum B With Way Longer Name', 'role': 'alum'}, 'alum-c': {'display_name': 'Alum C', 'role': 'alum', 'webpage': 'https://www.google.com'}, 'collab-a': {'display_name': 'Collaborator A', 'role': 'collab'}, 'collab-b': {'display_name': 'Collaborator B With Long Name', 'role': 'collab'}, 'ugrad-a': {'display_name': 'Ugrad A', 'role': 'ugrad'}, 'ugrad-b': {'display_name': 'Ugrad Student B With Long Name', 'role': 'ugrad'}, 'ugrad-alum-a': {'display_name': 'Past Ugrad A', 'role': 'ugrad-alum'}, 'ugrad-alum-b': {'display_name': 'Past Ugrad Student B With Long Name', 'role': 'ugrad-alum'}}\n"
     ]
    }
   ],
   "source": [
    "with open(people_data_path) as f:\n",
    "    data = yaml.load(f, Loader=SafeLoader)\n",
    "    print(data)"
   ]
  },
  {
   "cell_type": "code",
   "execution_count": 158,
   "id": "03ece808",
   "metadata": {},
   "outputs": [
    {
     "name": "stdout",
     "output_type": "stream",
     "text": [
      "Peter Daish\n",
      "Nicholas Micallef\n",
      "Martin Porcheron\n",
      "PRANJAL JAIN\n",
      "Darren Scott\n",
      "EMILY ESTHER NIELSEN\n"
     ]
    }
   ],
   "source": [
    "for person in people:\n",
    "    if (person[4] in data):\n",
    "        pass\n",
    "    else:\n",
    "        print(person[4])\n",
    "        new_dict = {\"display_name\" : person[5] ,\n",
    "                   \"webpage\": person[10],\n",
    "                   \"image\" : \"/img/people/\" + person[7],\n",
    "                   \"role\" : person[9],\n",
    "                   \"bio\" : person[6],\n",
    "                   \"topic\" : person[8],\n",
    "                   }\n",
    "        data[person[4]] = new_dict\n",
    "        #data[person[4].toString()]"
   ]
  },
  {
   "cell_type": "code",
   "execution_count": 160,
   "id": "6c954958",
   "metadata": {},
   "outputs": [
    {
     "data": {
      "text/plain": [
       "{'matt': {'display_name': 'Dr Matt Roach',\n",
       "  'webpage': 'https://www.swansea.ac.uk/staff/m.j.roach/#d.en.89036',\n",
       "  'image': '/img/people/Roach_Profile_CS.jpg',\n",
       "  'role': 'faculty'},\n",
       " 'simon': {'display_name': 'Dr Simon Robinson',\n",
       "  'webpage': 'https://www.swansea.ac.uk/staff/s.n.w.robinson/#d.en.86531',\n",
       "  'image': '/img/people/simon-robinson.webp',\n",
       "  'role': 'faculty'},\n",
       " 'nicholas': {'display_name': 'Dr Nicholas Micallef',\n",
       "  'role': 'faculty',\n",
       "  'image': '/img/people/nicholas.png'},\n",
       " 'muneeb': {'display_name': 'Dr Muneeb Ahmad',\n",
       "  'webpage': 'https://www.swansea.ac.uk/staff/m.i.ahmad/',\n",
       "  'role': 'faculty',\n",
       "  'image': '/img/people/muneeb.png'},\n",
       " 'gavin': {'display_name': 'Gavin Bailey',\n",
       "  'role': 'faculty',\n",
       "  'image': '/img/people/gavin.png'},\n",
       " 'alan': {'display_name': 'Professor Alan Dix',\n",
       "  'webpage': 'https://www.swansea.ac.uk/staff/a.j.dix/',\n",
       "  'image': '/img/people/alan.png',\n",
       "  'role': 'faculty'},\n",
       " 'shane': {'display_name': 'Dr Shane Fleming',\n",
       "  'webpage': 'https://www.swansea.ac.uk/staff/s.t.fleming/',\n",
       "  'role': 'faculty',\n",
       "  'image': '/img/people/shane.png'},\n",
       " 'mattJones': {'display_name': 'Professor Matt Jones',\n",
       "  'webpage': 'https://www.swansea.ac.uk/staff/matt.jones/#d.en.86411',\n",
       "  'role': 'faculty',\n",
       "  'image': '/img/people/mattjones.png'},\n",
       " 'joe': {'display_name': 'Dr Joe Macinnes',\n",
       "  'webpage': 'https://www.swansea.ac.uk/staff/william.macinnes/',\n",
       "  'role': 'faculty',\n",
       "  'image': '/img/people/joemacinnes.png'},\n",
       " 'tomowen': {'display_name': 'Dr Tom Owen',\n",
       "  'webpage': 'https://www.swansea.ac.uk/staff/t.owen/',\n",
       "  'role': 'faculty',\n",
       "  'image': '/img/people/tomowen.png'},\n",
       " 'jenPearson': {'display_name': 'Dr Jen Pearson',\n",
       "  'webpage': 'https://www.swansea.ac.uk/staff/j.pearson/',\n",
       "  'role': 'faculty',\n",
       "  'image': '/img/people/jenpearson.png'},\n",
       " 'martinporcheron': {'display_name': 'Dr Martin Porcheron',\n",
       "  'webpage': 'https://www.swansea.ac.uk/staff/m.a.w.porcheron/#d.en.92518',\n",
       "  'role': 'faculty',\n",
       "  'image': '/img/people/martinporcheron.png'},\n",
       " 'almarahat': {'display_name': 'Dr Alma Rahat',\n",
       "  'webpage': 'https://www.swansea.ac.uk/staff/a.a.m.rahat/',\n",
       "  'role': 'faculty',\n",
       "  'image': '/img/people/alamarahat.png'},\n",
       " 'thomasreitmaier': {'display_name': 'Dr Thomas Reitmaier',\n",
       "  'webpage': 'https://www.swansea.ac.uk/staff/thomas.reitmaier/',\n",
       "  'role': 'faculty',\n",
       "  'image': '/img/people/thomasreitmaier.png'},\n",
       " 'solmazsafari': {'display_name': 'Mrs Solmaz Safari',\n",
       "  'webpage': 'https://www.swansea.ac.uk/staff/solmaz.safari/',\n",
       "  'role': 'faculty',\n",
       "  'image': '/img/people/solmazsafari.png'},\n",
       " 'deepaksahoo': {'display_name': 'Dr Deepak Sahoo',\n",
       "  'webpage': 'https://www.swansea.ac.uk/staff/d.r.sahoo/',\n",
       "  'role': 'faculty',\n",
       "  'image': '/img/people/deepaksahoo.png'},\n",
       " 'seanwalton': {'display_name': 'Dr Sean Walton',\n",
       "  'webpage': 'https://www.swansea.ac.uk/staff/s.p.walton/#d.en.89970',\n",
       "  'role': 'faculty',\n",
       "  'image': '/img/people/seanwalton.png'},\n",
       " 'adamwyner': {'display_name': 'Dr Adam Wyner',\n",
       "  'webpage': 'https://www.swansea.ac.uk/staff/a.z.wyner/',\n",
       "  'role': 'faculty',\n",
       "  'image': '/img/people/adamwyner.png'},\n",
       " 'darrenscott': {'display_name': 'Darren Scott', 'role': 'faculty'},\n",
       " 'chat': {'display_name': 'Chat Wacharamanotham', 'role': 'faculty'},\n",
       " 'grad-a': {'display_name': 'Peter Daish', 'role': 'grad'},\n",
       " 'grad-b': {'display_name': 'Pranjal Jain', 'role': 'grad'},\n",
       " 'grad-c': {'display_name': 'Rabi Bunza', 'role': 'grad'},\n",
       " 'grad-d': {'display_name': 'Tulsi Patel', 'role': 'grad'},\n",
       " 'alum-a': {'display_name': 'Alum A',\n",
       "  'role': 'alum',\n",
       "  'bio': 'Ph.D., 2013. Now at Microsoft Research.'},\n",
       " 'alum-b': {'display_name': 'Alum B With Way Longer Name', 'role': 'alum'},\n",
       " 'alum-c': {'display_name': 'Alum C',\n",
       "  'role': 'alum',\n",
       "  'webpage': 'https://www.google.com'},\n",
       " 'collab-a': {'display_name': 'Collaborator A', 'role': 'collab'},\n",
       " 'collab-b': {'display_name': 'Collaborator B With Long Name',\n",
       "  'role': 'collab'},\n",
       " 'ugrad-a': {'display_name': 'Ugrad A', 'role': 'ugrad'},\n",
       " 'ugrad-b': {'display_name': 'Ugrad Student B With Long Name',\n",
       "  'role': 'ugrad'},\n",
       " 'ugrad-alum-a': {'display_name': 'Past Ugrad A', 'role': 'ugrad-alum'},\n",
       " 'ugrad-alum-b': {'display_name': 'Past Ugrad Student B With Long Name',\n",
       "  'role': 'ugrad-alum'},\n",
       " 'Peter Daish': {'display_name': 'Peter Daish',\n",
       "  'webpage': 'https://www.linkedin.com/in/peter-daish-b767a4130/',\n",
       "  'image': '/img/people/profile-150x150_Peter Daish.jpg',\n",
       "  'role': 'PGR',\n",
       "  'bio': '\"Peter has been at Swansea University since 2017 where he undertook an undergraduate degree in software engineering (BSc). In 2020 Peter achieved a bachelors\\' degree in Software Engineering under the supervision of Dr. Matt Roach and successfully secured a scholarship with the Economic and Social Research Council (ESRC) for a 1+3 Masters and PhD in the field of Fair Machine-Learning.\"',\n",
       "  'topic': 'Human Centred Design;Human-Centred AI Interaction;Constraint & Social Responsibility;Digital Economy;'},\n",
       " 'Nicholas Micallef': {'display_name': 'Dr Nicholas Micallef',\n",
       "  'webpage': '',\n",
       "  'image': '/img/people/headshot_small640_Nicholas Micallef.png',\n",
       "  'role': 'Academic',\n",
       "  'bio': '\"Dr Nicholas Micallef is a Lecturer at Swansea University. His research interests include Misinformation Usable Security and Privacy Authentication and Mobile HCI. His recent research focuses on misinformation both from a data-driven and human aspects perspective. In his previous role at New York University Abu Dhabi he was involved in various projects that studied the countering of misinformation and the spreading of cross-platform multimodal misinformation. In his position at the University of New South Wales his research focused on designing privacy-enhancing technologies that provide users with realistic information to anonymize their online identities. Dr. Micallef obtained his PhD from Glasgow Caledonian University United Kingdom. In his PhD he investigated the use of mobile sensing to improve the usability of smartphone authentication. \"',\n",
       "  'topic': 'Human Centred Design;Human-Centred AI Interaction;Useable Security and Privacy;Emergent Users & Technology Resource\\xa0Constraint ;'},\n",
       " 'Martin Porcheron': {'display_name': 'Martin Porcheron',\n",
       "  'webpage': 'https://www.porcheron.uk/',\n",
       "  'image': '/img/people/MartinPorcheron2022-square_Martin Porcheron.png',\n",
       "  'role': 'Academic',\n",
       "  'bio': '\"Dr Martin Porcheron is a Senior Lecturer in the Department of Computer Science. His research is in the areas of human-computer interaction and computer-supported cooperative work his recent research focuses on the user experience of interactive “AI” systems—from voice interfaces through to robot interfaces. He primarily adopts human-centred design approaches including ethnography user studies and focus groups to study and inform the design of novel technologies\"',\n",
       "  'topic': 'Human Centred Design;Human-Centred AI Interaction;Speech and Language Technology;Human Robot Interaction;'},\n",
       " 'PRANJAL JAIN': {'display_name': 'Pranjal Jain',\n",
       "  'webpage': 'https://www.pranjaljain.in/',\n",
       "  'image': '/img/people/Pranjal Jain 2021_PRANJAL JAIN.jpg',\n",
       "  'role': 'PGR',\n",
       "  'bio': '\"Pranjal is a PhD Researcher in the Centre for Doctoral Training at Swansea University UK where he focuses on enhancing human interactions and collaborations with intelligence-driven systems. Previously he has designed digital products and services with empathy focusing on users’ needs. He did his postgraduate and undergraduate studies in Human-Centred Design (HCD) and Electronics Engineering in India.His HCI journey started at the INTERACT 2017 conference where he was a student volunteer. His first formal introduction went beyond User Experience (UX). Since then he has led initiatives enabling students and practitioners to share knowledge and build professional relationships.Since 2018 he has also been involved with India HCI the annual HCI conference in cooperation with ACM. He has been building a community across borders in South Asia involving professionals researchers and many SIGCHI members from India BangladesSri Lanka & Pakistan. He is passionate about building bridges between Global North and Global South. His area of interest lies in Human-Centred AI Mixed Reality ICTD Design Research Ethics and Algorithms.\"',\n",
       "  'topic': 'Human Centred Design;Human-Centred AI Interaction;Tangible User Interfaces;Useable Security and Privacy;Digital Economy;'},\n",
       " 'Darren Scott': {'display_name': 'Darren Scott',\n",
       "  'webpage': '',\n",
       "  'image': '/img/people/20220608_111927_Darren Scott.jpg',\n",
       "  'role': 'PDRA',\n",
       "  'bio': '\"Research Assistant with an interest into how AI can enhance and revolutionise the world around us while not completely boxing out the people interacting with these technologies. PhD work on the possibilities presented by AI in fitness technologies and currently working on an NHS project investigating machine learning in the healthcare space.\"',\n",
       "  'topic': 'Human-Centred AI Interaction;Health & Wellbeing;Human Centred Design;'},\n",
       " 'EMILY ESTHER NIELSEN': {'display_name': 'Emily Nielsen ',\n",
       "  'webpage': 'https://www.linkedin.com/in/emily-esther-nielsen/',\n",
       "  'image': '/img/people/FB_IMG_1649623607869_EMILY ESTHER NIELSEN.jpg',\n",
       "  'role': 'PGR',\n",
       "  'bio': '\"I am a PhD student with a background in mathematics. My research uses a patient focused approach to investigate how to empower rare disease patients during their journey towards diagnosis. More specifically it will explore whether a machine learning based platform can enable rare disease patients to have earlier discussions with their healthcare providers and provide patients with a stronger voice in their journey towards diagnosis.\"',\n",
       "  'topic': 'Human Centred Design;Health & Wellbeing;'}}"
      ]
     },
     "execution_count": 160,
     "metadata": {},
     "output_type": "execute_result"
    }
   ],
   "source": [
    "data"
   ]
  },
  {
   "cell_type": "code",
   "execution_count": 161,
   "id": "769847db",
   "metadata": {},
   "outputs": [],
   "source": [
    "with open(people_data_path, 'w') as f:\n",
    "    data = yaml.dump(data, f, sort_keys=False, default_flow_style=False)"
   ]
  },
  {
   "cell_type": "code",
   "execution_count": null,
   "id": "9bbe9c80",
   "metadata": {},
   "outputs": [],
   "source": []
  }
 ],
 "metadata": {
  "kernelspec": {
   "display_name": "Python 3",
   "language": "python",
   "name": "python3"
  },
  "language_info": {
   "codemirror_mode": {
    "name": "ipython",
    "version": 3
   },
   "file_extension": ".py",
   "mimetype": "text/x-python",
   "name": "python",
   "nbconvert_exporter": "python",
   "pygments_lexer": "ipython3",
   "version": "3.8.9"
  }
 },
 "nbformat": 4,
 "nbformat_minor": 5
}
