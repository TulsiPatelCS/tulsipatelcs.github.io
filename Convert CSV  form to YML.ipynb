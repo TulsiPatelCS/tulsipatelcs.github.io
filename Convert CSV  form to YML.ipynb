{
 "cells": [
  {
   "cell_type": "code",
   "execution_count": 115,
   "id": "0769058e",
   "metadata": {},
   "outputs": [],
   "source": [
    "import csv\n",
    "import numpy as np\n",
    "import os\n",
    "import glob\n",
    "import yaml\n",
    "from yaml.loader import SafeLoader"
   ]
  },
  {
   "cell_type": "code",
   "execution_count": 116,
   "id": "cad920ad",
   "metadata": {},
   "outputs": [
    {
     "data": {
      "text/plain": [
       "'C:\\\\Users\\\\Tpate\\\\Documents\\\\GitHub\\\\test.github.io'"
      ]
     },
     "execution_count": 116,
     "metadata": {},
     "output_type": "execute_result"
    }
   ],
   "source": [
    "os.getcwd()"
   ]
  },
  {
   "cell_type": "code",
   "execution_count": 117,
   "id": "0712aae6",
   "metadata": {},
   "outputs": [
    {
     "name": "stdout",
     "output_type": "stream",
     "text": [
      "Human Centred Research Web Presence - Person Form(1-13).csv\n",
      "Human Centred Research Web Presence - Project form(1-5).csv\n"
     ]
    }
   ],
   "source": [
    "forms = []\n",
    "for path in os.listdir(os.getcwd()+\"\\\\forms\\\\\"):\n",
    "    # check if current path is a file\n",
    "    print(path)\n",
    "    if (\"person\" in path.lower()):\n",
    "        forms.append(path)\n",
    "    elif (\"project\" in path.lower()):\n",
    "        forms.append(path)\n"
   ]
  },
  {
   "cell_type": "code",
   "execution_count": 118,
   "id": "26aa59ca",
   "metadata": {},
   "outputs": [
    {
     "data": {
      "text/plain": [
       "['Human Centred Research Web Presence - Person Form(1-13).csv',\n",
       " 'Human Centred Research Web Presence - Project form(1-5).csv']"
      ]
     },
     "execution_count": 118,
     "metadata": {},
     "output_type": "execute_result"
    }
   ],
   "source": [
    "forms"
   ]
  },
  {
   "cell_type": "code",
   "execution_count": 119,
   "id": "2e27af84",
   "metadata": {},
   "outputs": [],
   "source": [
    "file_reader = []\n",
    "with open(os.path.join(os.getcwd() + \"\\\\forms\\\\\",forms[0]),encoding = \"utf8\") as csvfile:\n",
    "    spamreader = csv.reader(csvfile, delimiter=',', quotechar='|')\n",
    "    for row in spamreader:\n",
    "        file_reader.append(row)"
   ]
  },
  {
   "cell_type": "code",
   "execution_count": 120,
   "id": "b10aa40d",
   "metadata": {},
   "outputs": [],
   "source": [
    "file_reader = np.array(file_reader)"
   ]
  },
  {
   "cell_type": "code",
   "execution_count": 121,
   "id": "13f284c0",
   "metadata": {},
   "outputs": [
    {
     "data": {
      "text/plain": [
       "array(['1', '10/31/22 10:18:36', '10/31/22 10:22:31',\n",
       "       'peter.daish@Swansea.ac.uk', 'Peter Daish', 'Peter Daish',\n",
       "       \"Peter has been at Swansea University since 2017!! where he undertook an undergraduate degree in software engineering (BSc). In 2020!! Peter achieved a bachelors' degree in Software Engineering under the supervision of Dr. Matt Roach and successfully secured a scholarship with the Economic and Social Research Council (ESRC) for a 1+3 Masters and PhD in the field of Fair Machine-Learning.\",\n",
       "       'https://swanseauniversity-my.sharepoint.com/personal/m_j_roach_swansea_ac_uk/Documents/Apps/Microsoft%20Forms/Human%20Centred%20Research%20Web%20presence%20form/Question/profile-150x150_Peter%20Daish.jpg',\n",
       "       'Human Centred Design;Human-Centred AI Interaction;Constraint & Social Responsibility;Digital Economy;',\n",
       "       'PGR', 'https://www.linkedin.com/in/peter-daish-b767a4130/'],\n",
       "      dtype='<U1296')"
      ]
     },
     "execution_count": 121,
     "metadata": {},
     "output_type": "execute_result"
    }
   ],
   "source": [
    "file_reader[1]"
   ]
  },
  {
   "cell_type": "code",
   "execution_count": 122,
   "id": "dc0a7592",
   "metadata": {},
   "outputs": [
    {
     "data": {
      "text/plain": [
       "array([['\\ufeffID', 'Start time', 'Completion time', 'Email', 'Name',\n",
       "        'Display Name', 'Bio', 'Image (Headshot Photo)',\n",
       "        'Topic tags (Tick all that relate to you)', 'Role',\n",
       "        'Your home page URL'],\n",
       "       ['1', '10/31/22 10:18:36', '10/31/22 10:22:31',\n",
       "        'peter.daish@Swansea.ac.uk', 'Peter Daish', 'Peter Daish',\n",
       "        \"Peter has been at Swansea University since 2017!! where he undertook an undergraduate degree in software engineering (BSc). In 2020!! Peter achieved a bachelors' degree in Software Engineering under the supervision of Dr. Matt Roach and successfully secured a scholarship with the Economic and Social Research Council (ESRC) for a 1+3 Masters and PhD in the field of Fair Machine-Learning.\",\n",
       "        'https://swanseauniversity-my.sharepoint.com/personal/m_j_roach_swansea_ac_uk/Documents/Apps/Microsoft%20Forms/Human%20Centred%20Research%20Web%20presence%20form/Question/profile-150x150_Peter%20Daish.jpg',\n",
       "        'Human Centred Design;Human-Centred AI Interaction;Constraint & Social Responsibility;Digital Economy;',\n",
       "        'PGR', 'https://www.linkedin.com/in/peter-daish-b767a4130/'],\n",
       "       ['2', '11/02/2022 10:22', '11/02/2022 10:28',\n",
       "        'nicholas.micallef@Swansea.ac.uk', 'Nicholas Micallef',\n",
       "        'Dr Nicholas Micallef',\n",
       "        'Dr Nicholas Micallef is a Lecturer at Swansea University. His research interests include Misinformation!! Usable Security and Privacy!! Authentication!! and Mobile HCI. His recent research focuses on misinformation!! both from a data-driven and human aspects perspective. In his previous role at New York University Abu Dhabi!! he was involved in various projects that studied the countering of misinformation and the spreading of cross-platform multimodal misinformation. In his position at the University of New South Wales his research focused on designing privacy-enhancing technologies that provide users with realistic information to anonymize their online identities. Dr. Micallef obtained his PhD from Glasgow Caledonian University!! United Kingdom. In his PhD he investigated the use of mobile sensing to improve the usability of smartphone authentication. ',\n",
       "        'https://swanseauniversity-my.sharepoint.com/personal/m_j_roach_swansea_ac_uk/Documents/Apps/Microsoft%20Forms/Human%20Centred%20Research%20Web%20presence%20form/Question/headshot_small640_Nicholas%20Micallef.png',\n",
       "        'Human Centred Design;Human-Centred AI Interaction;Useable Security and Privacy;Emergent Users & Technology Resource\\xa0Constraint ;',\n",
       "        'Academic', ''],\n",
       "       ['3', '11/02/2022 10:34', '11/02/2022 10:39',\n",
       "        'm.a.w.porcheron@Swansea.ac.uk', 'Martin Porcheron',\n",
       "        'Martin Porcheron',\n",
       "        'Dr Martin Porcheron is a Senior Lecturer in the Department of Computer Science. His research is in the areas of human-computer interaction and computer-supported cooperative work!! his recent research focuses on the user experience of interactive “AI” systems—from voice interfaces through to robot interfaces. He primarily adopts human-centred design approaches including ethnography!! user studies!! and focus groups to study and inform the design of novel technologies',\n",
       "        'https://swanseauniversity-my.sharepoint.com/personal/m_j_roach_swansea_ac_uk/Documents/Apps/Microsoft%20Forms/Human%20Centred%20Research%20Web%20presence%20form/Question/MartinPorcheron2022-square_Martin%20Porcheron.png',\n",
       "        'Human Centred Design;Human-Centred AI Interaction;Speech and Language Technology;Human Robot Interaction;',\n",
       "        'Academic', 'https://www.porcheron.uk/'],\n",
       "       ['4', '11/02/2022 17:42', '11/02/2022 17:46',\n",
       "        '2138010@Swansea.ac.uk', 'PRANJAL JAIN', 'Pranjal Jain',\n",
       "        'Pranjal is a PhD Researcher in the Centre for Doctoral Training at Swansea University!! UK!! where he focuses on enhancing human interactions and collaborations with intelligence-driven systems. Previously he has designed digital products and services with empathy focusing on users’ needs. He did his postgraduate and undergraduate studies in Human-Centred Design (HCD) and Electronics Engineering in India. His HCI journey started at the INTERACT 2017 conference!! where he was a student volunteer. His first formal introduction went beyond User Experience (UX). Since then!! he has led initiatives enabling students and practitioners to share knowledge and build professional relationships. Since 2018!! he has also been involved with India HCI!! the annual HCI conference in cooperation with ACM. He has been building a community across borders in South Asia involving professionals!! researchers!! and many SIGCHI members from India!! Bangladesh!! Sri Lanka & Pakistan. He is passionate about building bridges between Global North and Global South.  His area of interest lies in Human-Centred AI!! Mixed Reality!! ICTD!! Design Research!! Ethics and Algorithms.',\n",
       "        'https://swanseauniversity-my.sharepoint.com/personal/m_j_roach_swansea_ac_uk/Documents/Apps/Microsoft%20Forms/Human%20Centred%20Research%20Web%20presence%20form/Question/Pranjal%20Jain%202021_PRANJAL%20JAIN.jpg',\n",
       "        'Human Centred Design;Human-Centred AI Interaction;Tangible User Interfaces;Useable Security and Privacy;Digital Economy;',\n",
       "        'PGR', 'https://www.pranjaljain.in/'],\n",
       "       ['5', '11/03/2022 11:05', '11/03/2022 11:10',\n",
       "        'd.p.scott@Swansea.ac.uk', 'Darren Scott', 'Darren Scott',\n",
       "        'Research Assistant with an interest into how AI can enhance and revolutionise the world around us!! while not completely boxing out the people interacting with these technologies. PhD work on the possibilities presented by AI in fitness technologies!! and currently working on an NHS project investigating machine learning in the healthcare space.',\n",
       "        'https://swanseauniversity-my.sharepoint.com/personal/m_j_roach_swansea_ac_uk/Documents/Apps/Microsoft%20Forms/Human%20Centred%20Research%20Web%20presence%20form/Question/20220608_111927_Darren%20Scott.jpg',\n",
       "        'Human-Centred AI Interaction;Health & Wellbeing;Human Centred Design;',\n",
       "        'PDRA', ''],\n",
       "       ['6', '11/03/2022 13:12', '11/03/2022 13:24',\n",
       "        '902549@Swansea.ac.uk', 'EMILY ESTHER NIELSEN', 'Emily Nielsen ',\n",
       "        'I am a PhD student with a background in mathematics. My research uses a patient focused approach to investigate how to empower rare disease patients during their journey towards diagnosis. More specifically!! it will explore whether a machine learning based platform can enable rare disease patients to have earlier discussions with their healthcare providers and provide patients with a stronger voice in their journey towards diagnosis.',\n",
       "        'https://swanseauniversity-my.sharepoint.com/personal/m_j_roach_swansea_ac_uk/Documents/Apps/Microsoft%20Forms/Human%20Centred%20Research%20Web%20presence%20form/Question/FB_IMG_1649623607869_EMILY%20ESTHER%20NIELSEN.jpg',\n",
       "        'Human Centred Design;Health & Wellbeing;', 'PGR',\n",
       "        'https://www.linkedin.com/in/emily-esther-nielsen/'],\n",
       "       ['7', '11/03/2022 14:20', '11/03/2022 14:25',\n",
       "        'k.lakshmanan@Swansea.ac.uk', 'Kayal Lakshmanan',\n",
       "        'Dr Kayal Lakshmanan',\n",
       "        'Dr Kayal Lakshmanan is a Post-Doctoral Research Officer in EPSRC funded ”Materials Made Smarter Centre: Advanced Digital Modelling of Steel Processing” at the Faculty of Science and Engineering!! Swansea University. Prior to this!! she worked as a research assistant on UKRI-funded Parking and AiR pollution SEnsoRs for Smart Cities (PARSER) and ASTUTE 2020. Dr Lakshmanan has an Erasmus Mundus Joint PhD from Zienkiewicz Centre for Computational Engineering!! Swansea University!! and the University of Pavia!! on Predictive maintenance of an external gear pump using Machine learning algorithms. Dr Lakshmanan’s primary research focus is on AI in smart manufacturing!! hybrid modelling!! optimisation!! and applying Machine Learning to various real-world applications.',\n",
       "        'https://swanseauniversity-my.sharepoint.com/personal/m_j_roach_swansea_ac_uk/Documents/Apps/Microsoft%20Forms/Human%20Centred%20Research%20Web%20presence%20form/Question/KL_Kayal%20Lakshmanan.jpeg',\n",
       "        'Human-Centred AI Interaction;Engineering & Smart Manufacturing;',\n",
       "        'PDRA', ''],\n",
       "       ['8', '11/03/2022 15:00', '11/03/2022 15:01',\n",
       "        'm.i.ahmad@Swansea.ac.uk', 'Muneeb Ahmad', 'Muneeb Imtiaz Ahmad',\n",
       "        'Dr. Muneeb Ahmad joined the Department of Computer Science as Lecturer at Swansea University in 2020. His research focuses on employing methods from the field of human-centred design to create intelligent interactive systems such as social robots!! and user interfaces that can adapt to users through real-time analysis of their social signals and physiological data. He is interested in the applications of machine learning to implement intelligent interactive systems. The work further involves evaluation of these interactive systems to study their impact on human behaviour mainly to see their level of social engagement!! cognitive load!! perceived trust!! and performance. Prior to joining Swansea University!! He has worked as a Research Associate at the Edinburgh Centre for Robotics in the Department of Computer Science at the Heriot-Watt University on the EPSRC ORCA-Hub project!! where he led the development of a measurement of Cognitive load in the Human-Robotic/Computer Interaction',\n",
       "        'https://swanseauniversity-my.sharepoint.com/personal/m_j_roach_swansea_ac_uk/Documents/Apps/Microsoft%20Forms/Human%20Centred%20Research%20Web%20presence%20form/Question/123639069_10159578421168455_56627592342509226_Muneeb%20Ahmad.jpg',\n",
       "        'Human-Centred AI Interaction;Human Centred Design;Education;Health & Wellbeing;Human Robot Interaction;',\n",
       "        'Academic', ''],\n",
       "       ['9', '11/03/2022 14:52', '11/03/2022 15:01',\n",
       "        '2004599@Swansea.ac.uk', 'GENEVIEVE CLIFFORD',\n",
       "        'Genevieve Clifford',\n",
       "        \"I'm interested in addressing digital literacy gaps and community technology. My PhD project will unite these two topic areas by using a community-led!! co-designed digital infrastructure project to foster capability for digital skills in a target community in South Wales. I'm currently in the doctoral training year of a 1+3 ESRC Wales DTP funded studentship (as part of the Digital Economy and Society pathway). \",\n",
       "        'https://swanseauniversity-my.sharepoint.com/personal/m_j_roach_swansea_ac_uk/Documents/Apps/Microsoft%20Forms/Human%20Centred%20Research%20Web%20presence%20form/Question/fitlab_profile_picture_GENEVIEVE%20CLIFFORD.jpg',\n",
       "        'Education;Digital Economy;Emergent Users & Technology Resource\\xa0Constraint ;',\n",
       "        'PGR', 'https://walesdtp.ac.uk/profile/clifford-genevieve'],\n",
       "       ['10', '11/03/2022 15:56', '11/03/2022 15:57',\n",
       "        '906595@Swansea.ac.uk', 'RORY CLARK', 'Rory Clark',\n",
       "        'Background In Social Sciences From Swansea University',\n",
       "        'https://swanseauniversity-my.sharepoint.com/personal/m_j_roach_swansea_ac_uk/Documents/Apps/Microsoft%20Forms/Human%20Centred%20Research%20Web%20presence%20form/Question/IMG_2031_RORY%20CLARK.jpeg',\n",
       "        'Human Centred Design;Human-Centred AI Interaction;Health & Wellbeing;',\n",
       "        'PGR', ''],\n",
       "       ['11', '11/07/2022 11:34', '11/07/2022 11:36',\n",
       "        'c.wacharamanotham@Swansea.ac.uk', 'Chat Wacharamanotham',\n",
       "        'Chat Wacharamanotham',\n",
       "        'My mission is to promote research transparency and Open Science. I work toward this mission through research!! teaching!! and community work. My research focuses on understanding how people plan!! report!! read!! and share knowledge from their research. I develop tools to facilitate researchers in these activities to reduce the efforts required to conduct research in a transparent manner. Together with colleagues!! I studied practices in sharing research materials and eye movement behaviour in research reading. We also developed tools for designing experiments!! determining the sample size!! and choosing statistical analysis procedures. I previously taught courses and gave lectures in quantitative research methods!! including a course at the ACM CHI conference in 2022—which is one of the top conferences in the field of Human–Computer Interaction. I co-organize the community-led group of Transparent Statistics in Human–Computer Interaction. We organize events at ACM CHI and IEEE VIS conferences related to this topic. Key output includes the addition of Transparency aspect in the CHI reviewing guidelines!! and the Transparent Statistics Guideline (work-in-progress). I organized the Dagstuhl Seminar Transparent Quantitative Research as a User Interface Problem in September 2022.',\n",
       "        'https://swanseauniversity-my.sharepoint.com/personal/m_j_roach_swansea_ac_uk/Documents/Apps/Microsoft%20Forms/Human%20Centred%20Research%20Web%20presence%20form/Question/Wacharamanotham%20-%20Face%20only_Chat%20Wacharamanotham.png',\n",
       "        'Human Centred Design;Health & Wellbeing;', 'Academic',\n",
       "        'https://chatchavan.github.io'],\n",
       "       ['12', '11/07/2022 15:49', '11/07/2022 15:52',\n",
       "        '961500@Swansea.ac.uk', 'MATTHEW CHRISTIAN HALL', 'Matt Hall',\n",
       "        'PhD student looking at digital cancer interventions to empower patients in Wales',\n",
       "        'https://swanseauniversity-my.sharepoint.com/personal/m_j_roach_swansea_ac_uk/Documents/Apps/Microsoft%20Forms/Human%20Centred%20Research%20Web%20presence%20form/Question/matt_cdt_rec_crop%20(1)_MATTHEW%20CHRISTIAN%20HA.jpg',\n",
       "        'Human Centred Design;Health & Wellbeing;', 'PGR',\n",
       "        'https://matthall.io/'],\n",
       "       ['13', '11/22/22 10:35:41', '11/22/22 10:37:02',\n",
       "        'S.P.WALTON@Swansea.ac.uk', 'Sean Walton', 'Sean Walton',\n",
       "        'Dr Sean Walton is a Computer Science Lecturer at Swansea University!! Sêr Cymru II Fellow!! and Founding Director of Pill Bug Interactive (https://www.pillbug.zone/)!! a BAFTA Cymru nominated games development studio. Sean’s research background is primarily in using evolutionary optimisation techniques in engineering. Since joining the Computational Foundry at Swansea he has expanded his research interests into educational technology and the procedural generation of video game content.',\n",
       "        'https://swanseauniversity-my.sharepoint.com/personal/m_j_roach_swansea_ac_uk/Documents/Apps/Microsoft%20Forms/Human%20Centred%20Research%20Web%20presence%20form/Question/profile_pic_new_Sean%20Walton.png',\n",
       "        'Human Centred Design;Human-Centred AI Interaction;Education;Engineering & Smart Manufacturing;',\n",
       "        'Academic', 'https://www.swansea.ac.uk/staff/s.p.walton/']],\n",
       "      dtype='<U1296')"
      ]
     },
     "execution_count": 122,
     "metadata": {},
     "output_type": "execute_result"
    }
   ],
   "source": [
    "file_reader"
   ]
  },
  {
   "cell_type": "code",
   "execution_count": 123,
   "id": "889a07d4",
   "metadata": {},
   "outputs": [],
   "source": [
    "file_reader = np.delete(file_reader,0,0)"
   ]
  },
  {
   "cell_type": "code",
   "execution_count": 124,
   "id": "7af951ea",
   "metadata": {},
   "outputs": [
    {
     "data": {
      "text/plain": [
       "array(['4', '11/02/2022 17:42', '11/02/2022 17:46',\n",
       "       '2138010@Swansea.ac.uk', 'PRANJAL JAIN', 'Pranjal Jain',\n",
       "       'Pranjal is a PhD Researcher in the Centre for Doctoral Training at Swansea University!! UK!! where he focuses on enhancing human interactions and collaborations with intelligence-driven systems. Previously he has designed digital products and services with empathy focusing on users’ needs. He did his postgraduate and undergraduate studies in Human-Centred Design (HCD) and Electronics Engineering in India. His HCI journey started at the INTERACT 2017 conference!! where he was a student volunteer. His first formal introduction went beyond User Experience (UX). Since then!! he has led initiatives enabling students and practitioners to share knowledge and build professional relationships. Since 2018!! he has also been involved with India HCI!! the annual HCI conference in cooperation with ACM. He has been building a community across borders in South Asia involving professionals!! researchers!! and many SIGCHI members from India!! Bangladesh!! Sri Lanka & Pakistan. He is passionate about building bridges between Global North and Global South.  His area of interest lies in Human-Centred AI!! Mixed Reality!! ICTD!! Design Research!! Ethics and Algorithms.',\n",
       "       'https://swanseauniversity-my.sharepoint.com/personal/m_j_roach_swansea_ac_uk/Documents/Apps/Microsoft%20Forms/Human%20Centred%20Research%20Web%20presence%20form/Question/Pranjal%20Jain%202021_PRANJAL%20JAIN.jpg',\n",
       "       'Human Centred Design;Human-Centred AI Interaction;Tangible User Interfaces;Useable Security and Privacy;Digital Economy;',\n",
       "       'PGR', 'https://www.pranjaljain.in/'], dtype='<U1296')"
      ]
     },
     "execution_count": 124,
     "metadata": {},
     "output_type": "execute_result"
    }
   ],
   "source": [
    "file_reader[3]"
   ]
  },
  {
   "cell_type": "code",
   "execution_count": 125,
   "id": "bda423fa",
   "metadata": {},
   "outputs": [
    {
     "name": "stdout",
     "output_type": "stream",
     "text": [
      "['1', '10/31/22 10:18:36', '10/31/22 10:22:31', 'peter.daish@Swansea.ac.uk', 'Peter Daish', 'Peter Daish', \"Peter has been at Swansea University since 2017!! where he undertook an undergraduate degree in software engineering (BSc). In 2020!! Peter achieved a bachelors' degree in Software Engineering under the supervision of Dr. Matt Roach and successfully secured a scholarship with the Economic and Social Research Council (ESRC) for a 1+3 Masters and PhD in the field of Fair Machine-Learning.\", 'profile-150x150_Peter Daish.jpg', 'Human Centred Design;Human-Centred AI Interaction;Constraint & Social Responsibility;Digital Economy;', 'PGR', 'https://www.linkedin.com/in/peter-daish-b767a4130/']\n",
      "['2', '11/02/2022 10:22', '11/02/2022 10:28', 'nicholas.micallef@Swansea.ac.uk', 'Nicholas Micallef', 'Dr Nicholas Micallef', 'Dr Nicholas Micallef is a Lecturer at Swansea University. His research interests include Misinformation!! Usable Security and Privacy!! Authentication!! and Mobile HCI. His recent research focuses on misinformation!! both from a data-driven and human aspects perspective. In his previous role at New York University Abu Dhabi!! he was involved in various projects that studied the countering of misinformation and the spreading of cross-platform multimodal misinformation. In his position at the University of New South Wales his research focused on designing privacy-enhancing technologies that provide users with realistic information to anonymize their online identities. Dr. Micallef obtained his PhD from Glasgow Caledonian University!! United Kingdom. In his PhD he investigated the use of mobile sensing to improve the usability of smartphone authentication. ', 'headshot_small640_Nicholas Micallef.png', 'Human Centred Design;Human-Centred AI Interaction;Useable Security and Privacy;Emergent Users & Technology Resource\\xa0Constraint ;', 'Academic', '']\n",
      "['3', '11/02/2022 10:34', '11/02/2022 10:39', 'm.a.w.porcheron@Swansea.ac.uk', 'Martin Porcheron', 'Martin Porcheron', 'Dr Martin Porcheron is a Senior Lecturer in the Department of Computer Science. His research is in the areas of human-computer interaction and computer-supported cooperative work!! his recent research focuses on the user experience of interactive “AI” systems—from voice interfaces through to robot interfaces. He primarily adopts human-centred design approaches including ethnography!! user studies!! and focus groups to study and inform the design of novel technologies', 'MartinPorcheron2022-square_Martin Porcheron.png', 'Human Centred Design;Human-Centred AI Interaction;Speech and Language Technology;Human Robot Interaction;', 'Academic', 'https://www.porcheron.uk/']\n",
      "['4', '11/02/2022 17:42', '11/02/2022 17:46', '2138010@Swansea.ac.uk', 'PRANJAL JAIN', 'Pranjal Jain', 'Pranjal is a PhD Researcher in the Centre for Doctoral Training at Swansea University!! UK!! where he focuses on enhancing human interactions and collaborations with intelligence-driven systems. Previously he has designed digital products and services with empathy focusing on users’ needs. He did his postgraduate and undergraduate studies in Human-Centred Design (HCD) and Electronics Engineering in India. His HCI journey started at the INTERACT 2017 conference!! where he was a student volunteer. His first formal introduction went beyond User Experience (UX). Since then!! he has led initiatives enabling students and practitioners to share knowledge and build professional relationships. Since 2018!! he has also been involved with India HCI!! the annual HCI conference in cooperation with ACM. He has been building a community across borders in South Asia involving professionals!! researchers!! and many SIGCHI members from India!! Bangladesh!! Sri Lanka & Pakistan. He is passionate about building bridges between Global North and Global South.  His area of interest lies in Human-Centred AI!! Mixed Reality!! ICTD!! Design Research!! Ethics and Algorithms.', 'Pranjal Jain 2021_PRANJAL JAIN.jpg', 'Human Centred Design;Human-Centred AI Interaction;Tangible User Interfaces;Useable Security and Privacy;Digital Economy;', 'PGR', 'https://www.pranjaljain.in/']\n",
      "['5', '11/03/2022 11:05', '11/03/2022 11:10', 'd.p.scott@Swansea.ac.uk', 'Darren Scott', 'Darren Scott', 'Research Assistant with an interest into how AI can enhance and revolutionise the world around us!! while not completely boxing out the people interacting with these technologies. PhD work on the possibilities presented by AI in fitness technologies!! and currently working on an NHS project investigating machine learning in the healthcare space.', '20220608_111927_Darren Scott.jpg', 'Human-Centred AI Interaction;Health & Wellbeing;Human Centred Design;', 'PDRA', '']\n",
      "['6', '11/03/2022 13:12', '11/03/2022 13:24', '902549@Swansea.ac.uk', 'EMILY ESTHER NIELSEN', 'Emily Nielsen ', 'I am a PhD student with a background in mathematics. My research uses a patient focused approach to investigate how to empower rare disease patients during their journey towards diagnosis. More specifically!! it will explore whether a machine learning based platform can enable rare disease patients to have earlier discussions with their healthcare providers and provide patients with a stronger voice in their journey towards diagnosis.', 'FB_IMG_1649623607869_EMILY ESTHER NIELSEN.jpg', 'Human Centred Design;Health & Wellbeing;', 'PGR', 'https://www.linkedin.com/in/emily-esther-nielsen/']\n",
      "['7', '11/03/2022 14:20', '11/03/2022 14:25', 'k.lakshmanan@Swansea.ac.uk', 'Kayal Lakshmanan', 'Dr Kayal Lakshmanan', 'Dr Kayal Lakshmanan is a Post-Doctoral Research Officer in EPSRC funded ”Materials Made Smarter Centre: Advanced Digital Modelling of Steel Processing” at the Faculty of Science and Engineering!! Swansea University. Prior to this!! she worked as a research assistant on UKRI-funded Parking and AiR pollution SEnsoRs for Smart Cities (PARSER) and ASTUTE 2020. Dr Lakshmanan has an Erasmus Mundus Joint PhD from Zienkiewicz Centre for Computational Engineering!! Swansea University!! and the University of Pavia!! on Predictive maintenance of an external gear pump using Machine learning algorithms. Dr Lakshmanan’s primary research focus is on AI in smart manufacturing!! hybrid modelling!! optimisation!! and applying Machine Learning to various real-world applications.', 'KL_Kayal Lakshmanan.jpeg', 'Human-Centred AI Interaction;Engineering & Smart Manufacturing;', 'PDRA', '']\n",
      "['8', '11/03/2022 15:00', '11/03/2022 15:01', 'm.i.ahmad@Swansea.ac.uk', 'Muneeb Ahmad', 'Muneeb Imtiaz Ahmad', 'Dr. Muneeb Ahmad joined the Department of Computer Science as Lecturer at Swansea University in 2020. His research focuses on employing methods from the field of human-centred design to create intelligent interactive systems such as social robots!! and user interfaces that can adapt to users through real-time analysis of their social signals and physiological data. He is interested in the applications of machine learning to implement intelligent interactive systems. The work further involves evaluation of these interactive systems to study their impact on human behaviour mainly to see their level of social engagement!! cognitive load!! perceived trust!! and performance. Prior to joining Swansea University!! He has worked as a Research Associate at the Edinburgh Centre for Robotics in the Department of Computer Science at the Heriot-Watt University on the EPSRC ORCA-Hub project!! where he led the development of a measurement of Cognitive load in the Human-Robotic/Computer Interaction', '123639069_10159578421168455_56627592342509226_Muneeb Ahmad.jpg', 'Human-Centred AI Interaction;Human Centred Design;Education;Health & Wellbeing;Human Robot Interaction;', 'Academic', '']\n",
      "['9', '11/03/2022 14:52', '11/03/2022 15:01', '2004599@Swansea.ac.uk', 'GENEVIEVE CLIFFORD', 'Genevieve Clifford', \"I'm interested in addressing digital literacy gaps and community technology. My PhD project will unite these two topic areas by using a community-led!! co-designed digital infrastructure project to foster capability for digital skills in a target community in South Wales. I'm currently in the doctoral training year of a 1+3 ESRC Wales DTP funded studentship (as part of the Digital Economy and Society pathway). \", 'fitlab_profile_picture_GENEVIEVE CLIFFORD.jpg', 'Education;Digital Economy;Emergent Users & Technology Resource\\xa0Constraint ;', 'PGR', 'https://walesdtp.ac.uk/profile/clifford-genevieve']\n",
      "['10', '11/03/2022 15:56', '11/03/2022 15:57', '906595@Swansea.ac.uk', 'RORY CLARK', 'Rory Clark', 'Background In Social Sciences From Swansea University', 'IMG_2031_RORY CLARK.jpeg', 'Human Centred Design;Human-Centred AI Interaction;Health & Wellbeing;', 'PGR', '']\n",
      "['11', '11/07/2022 11:34', '11/07/2022 11:36', 'c.wacharamanotham@Swansea.ac.uk', 'Chat Wacharamanotham', 'Chat Wacharamanotham', 'My mission is to promote research transparency and Open Science. I work toward this mission through research!! teaching!! and community work. My research focuses on understanding how people plan!! report!! read!! and share knowledge from their research. I develop tools to facilitate researchers in these activities to reduce the efforts required to conduct research in a transparent manner. Together with colleagues!! I studied practices in sharing research materials and eye movement behaviour in research reading. We also developed tools for designing experiments!! determining the sample size!! and choosing statistical analysis procedures. I previously taught courses and gave lectures in quantitative research methods!! including a course at the ACM CHI conference in 2022—which is one of the top conferences in the field of Human–Computer Interaction. I co-organize the community-led group of Transparent Statistics in Human–Computer Interaction. We organize events at ACM CHI and IEEE VIS conferences related to this topic. Key output includes the addition of Transparency aspect in the CHI reviewing guidelines!! and the Transparent Statistics Guideline (work-in-progress). I organized the Dagstuhl Seminar Transparent Quantitative Research as a User Interface Problem in September 2022.', 'Wacharamanotham - Face only_Chat Wacharamanotham.png', 'Human Centred Design;Health & Wellbeing;', 'Academic', 'https://chatchavan.github.io']\n",
      "['12', '11/07/2022 15:49', '11/07/2022 15:52', '961500@Swansea.ac.uk', 'MATTHEW CHRISTIAN HALL', 'Matt Hall', 'PhD student looking at digital cancer interventions to empower patients in Wales', 'matt_cdt_rec_crop (1)_MATTHEW CHRISTIAN HA.jpg', 'Human Centred Design;Health & Wellbeing;', 'PGR', 'https://matthall.io/']\n",
      "['13', '11/22/22 10:35:41', '11/22/22 10:37:02', 'S.P.WALTON@Swansea.ac.uk', 'Sean Walton', 'Sean Walton', 'Dr Sean Walton is a Computer Science Lecturer at Swansea University!! Sêr Cymru II Fellow!! and Founding Director of Pill Bug Interactive (https://www.pillbug.zone/)!! a BAFTA Cymru nominated games development studio. Sean’s research background is primarily in using evolutionary optimisation techniques in engineering. Since joining the Computational Foundry at Swansea he has expanded his research interests into educational technology and the procedural generation of video game content.', 'profile_pic_new_Sean Walton.png', 'Human Centred Design;Human-Centred AI Interaction;Education;Engineering & Smart Manufacturing;', 'Academic', 'https://www.swansea.ac.uk/staff/s.p.walton/']\n"
     ]
    }
   ],
   "source": [
    "people = []\n",
    "\n",
    "for x in file_reader:\n",
    "        person = []\n",
    "        person.extend(x[0:6].tolist())\n",
    "        person.append(x[6].tolist())\n",
    "        person.extend([x[-4].split(\"/\")[-1].replace(\"%20\", \" \")]) #print(my_string.split(\"world\",1)[1])\n",
    "        person.extend(x[-3:].tolist())\n",
    "        print(person)\n",
    "        people.append(person)"
   ]
  },
  {
   "cell_type": "code",
   "execution_count": 126,
   "id": "291fe37a",
   "metadata": {},
   "outputs": [
    {
     "data": {
      "text/plain": [
       "'headshot_small640_Nicholas Micallef.png'"
      ]
     },
     "execution_count": 126,
     "metadata": {},
     "output_type": "execute_result"
    }
   ],
   "source": [
    "people[1][7]"
   ]
  },
  {
   "cell_type": "code",
   "execution_count": 127,
   "id": "c4a46317",
   "metadata": {},
   "outputs": [],
   "source": [
    "people_data_path = os.getcwd()+\"\\\\_data\"+\"\\\\people.yml\""
   ]
  },
  {
   "cell_type": "code",
   "execution_count": 128,
   "id": "17c7fd0a",
   "metadata": {},
   "outputs": [
    {
     "name": "stdout",
     "output_type": "stream",
     "text": [
      "{'academicmatt': {'display_name': 'Dr Matt Roach', 'webpage': 'https://www.swansea.ac.uk/staff/m.j.roach/#d.en.89036', 'image': '/img/people/Roach_Profile_CS.jpg', 'role': 'academic'}, 'simon': {'display_name': 'Dr Simon Robinson', 'webpage': 'https://www.swansea.ac.uk/staff/s.n.w.robinson/#d.en.86531', 'image': '/img/people/simon-robinson.webp', 'role': 'academic'}, 'nicholas': {'display_name': 'Dr Nicholas Micallef', 'role': 'academic', 'image': '/img/people/nicholas.png'}, 'muneeb': {'display_name': 'Dr Muneeb Ahmad', 'webpage': 'https://www.swansea.ac.uk/staff/m.i.ahmad/', 'role': 'academic', 'image': '/img/people/muneeb.png'}, 'gavin': {'display_name': 'Gavin Bailey', 'role': 'academic', 'image': '/img/people/gavin.png'}, 'alan': {'display_name': 'Professor Alan Dix', 'webpage': 'https://www.swansea.ac.uk/staff/a.j.dix/', 'image': '/img/people/alan.png', 'role': 'academic'}, 'shane': {'display_name': 'Dr Shane Fleming', 'webpage': 'https://www.swansea.ac.uk/staff/s.t.fleming/', 'role': 'academic', 'image': '/img/people/shane.png'}, 'mattJones': {'display_name': 'Professor Matt Jones', 'webpage': 'https://www.swansea.ac.uk/staff/matt.jones/#d.en.86411', 'role': 'academic', 'image': '/img/people/mattjones.png'}, 'joe': {'display_name': 'Dr Joe Macinnes', 'webpage': 'https://www.swansea.ac.uk/staff/william.macinnes/', 'role': 'academic', 'image': '/img/people/joemacinnes.png'}, 'tomowen': {'display_name': 'Dr Tom Owen', 'webpage': 'https://www.swansea.ac.uk/staff/t.owen/', 'role': 'academic', 'image': '/img/people/tomowen.png'}, 'jenPearson': {'display_name': 'Dr Jen Pearson', 'webpage': 'https://www.swansea.ac.uk/staff/j.pearson/', 'role': 'academic', 'image': '/img/people/jenpearson.png'}, 'martinporcheron': {'display_name': 'Dr Martin Porcheron', 'webpage': 'https://www.swansea.ac.uk/staff/m.a.w.porcheron/#d.en.92518', 'role': 'academic', 'image': '/img/people/martinporcheron.png'}, 'almarahat': {'display_name': 'Dr Alma Rahat', 'webpage': 'https://www.swansea.ac.uk/staff/a.a.m.rahat/', 'role': 'academic', 'image': '/img/people/alamarahat.png'}, 'thomasreitmaier': {'display_name': 'Dr Thomas Reitmaier', 'webpage': 'https://www.swansea.ac.uk/staff/thomas.reitmaier/', 'role': 'academic', 'image': '/img/people/thomasreitmaier.png'}, 'solmazsafari': {'display_name': 'Mrs Solmaz Safari', 'webpage': 'https://www.swansea.ac.uk/staff/solmaz.safari/', 'role': 'academic', 'image': '/img/people/solmazsafari.png'}, 'deepaksahoo': {'display_name': 'Dr Deepak Sahoo', 'webpage': 'https://www.swansea.ac.uk/staff/d.r.sahoo/', 'role': 'academic', 'image': '/img/people/deepaksahoo.png'}, 'seanwalton': {'display_name': 'Dr Sean Walton', 'webpage': 'https://www.swansea.ac.uk/staff/s.p.walton/#d.en.89970', 'role': 'academic', 'image': '/img/people/seanwalton.png'}, 'adamwyner': {'display_name': 'Dr Adam Wyner', 'webpage': 'https://www.swansea.ac.uk/staff/a.z.wyner/', 'role': 'academic', 'image': '/img/people/adamwyner.png'}, 'darrenscott': {'display_name': 'Darren Scott', 'role': 'academic'}, 'chat': {'display_name': 'Chat Wacharamanotham', 'role': 'academic'}, 'grad-c': {'display_name': 'Rabi Bunza', 'role': 'pgr'}, 'grad-d': {'display_name': 'Tulsi Patel', 'role': 'pgr'}, 'Peter Daish': {'display_name': 'Peter Daish', 'webpage': 'https://www.linkedin.com/in/peter-daish-b767a4130/', 'image': '/img/people/profile-150x150_Peter Daish.jpg', 'role': 'pgr', 'bio': '\"Peter has been at Swansea University since 2017 where he undertook an undergraduate degree in software engineering (BSc). In 2020 Peter achieved a bachelors\\' degree in Software Engineering under the supervision of Dr. Matt Roach and successfully secured a scholarship with the Economic and Social Research Council (ESRC) for a 1+3 Masters and PhD in the field of Fair Machine-Learning.\"', 'topic': ['Human Centred Design', 'Human-Centred AI Interaction', 'Constraint & Social Responsibility', 'Digital Economy']}, 'Nicholas Micallef': {'display_name': 'Dr Nicholas Micallef', 'webpage': '', 'image': '/img/people/headshot_small640_Nicholas Micallef.png', 'role': 'academic', 'bio': '\"Dr Nicholas Micallef is a Lecturer at Swansea University. His research interests include Misinformation Usable Security and Privacy Authentication and Mobile HCI. His recent research focuses on misinformation both from a data-driven and human aspects perspective. In his previous role at New York University Abu Dhabi he was involved in various projects that studied the countering of misinformation and the spreading of cross-platform multimodal misinformation. In his position at the University of New South Wales his research focused on designing privacy-enhancing technologies that provide users with realistic information to anonymize their online identities. Dr. Micallef obtained his PhD from Glasgow Caledonian University United Kingdom. In his PhD he investigated the use of mobile sensing to improve the usability of smartphone authentication. \"', 'topic': ['Human Centred Design', 'Human-Centred AI Interaction', 'Useable Security and Privacy', 'Emergent Users & Technology Resource Constraint']}, 'Martin Porcheron': {'display_name': 'Martin Porcheron', 'webpage': 'https://www.porcheron.uk/', 'image': '/img/people/MartinPorcheron2022-square_Martin Porcheron.png', 'role': 'academic', 'bio': '\"Dr Martin Porcheron is a Senior Lecturer in the Department of Computer Science. His research is in the areas of human-computer interaction and computer-supported cooperative work his recent research focuses on the user experience of interactive “AI” systems—from voice interfaces through to robot interfaces. He primarily adopts human-centred design approaches including ethnography user studies and focus groups to study and inform the design of novel technologies\"', 'topic': ['Human Centred Design', 'Human-Centred AI Interaction', 'Speech and Language Technology', 'Human Robot Interaction']}, 'PRANJAL JAIN': {'display_name': 'Pranjal Jain', 'webpage': 'https://www.pranjaljain.in/', 'image': '/img/people/Pranjal Jain 2021_PRANJAL JAIN.jpg', 'role': 'pgr', 'bio': '\"Pranjal is a PhD Researcher in the Centre for Doctoral Training at Swansea University UK where he focuses on enhancing human interactions and collaborations with intelligence-driven systems. Previously he has designed digital products and services with empathy focusing on users’ needs. He did his postgraduate and undergraduate studies in Human-Centred Design (HCD) and Electronics Engineering in India.His HCI journey started at the INTERACT 2017 conference where he was a student volunteer. His first formal introduction went beyond User Experience (UX). Since then he has led initiatives enabling students and practitioners to share knowledge and build professional relationships.Since 2018 he has also been involved with India HCI the annual HCI conference in cooperation with ACM. He has been building a community across borders in South Asia involving professionals researchers and many SIGCHI members from India BangladesSri Lanka & Pakistan. He is passionate about building bridges between Global North and Global South. His area of interest lies in Human-Centred AI Mixed Reality ICTD Design Research Ethics and Algorithms.\"', 'topic': ['Human Centred Design', 'Human-Centred AI Interaction', 'Tangible User Interfaces', 'Useable Security and Privacy', 'Digital Economy']}, 'Darren Scott': {'display_name': 'Darren Scott', 'webpage': '', 'image': '/img/people/20220608_111927_Darren Scott.jpg', 'role': 'pdra', 'bio': '\"Research Assistant with an interest into how AI can enhance and revolutionise the world around us while not completely boxing out the people interacting with these technologies. PhD work on the possibilities presented by AI in fitness technologies and currently working on an NHS project investigating machine learning in the healthcare space.\"', 'topic': ['Human-Centred AI Interaction', 'Health & Wellbeing', 'Human Centred Design']}, 'EMILY ESTHER NIELSEN': {'display_name': 'Emily Nielsen ', 'webpage': 'https://www.linkedin.com/in/emily-esther-nielsen/', 'image': '/img/people/FB_IMG_1649623607869_EMILY ESTHER NIELSEN.jpg', 'role': 'pgr', 'bio': 'I am a PhD student with a background in mathematics. My research uses a patient focused approach to investigate how to empower rare disease patients during their journey towards diagnosis. More specifically, it will explore whether a machine learning based platform can enable rare disease patients to have earlier discussions with their healthcare providers and provide patients with a stronger voice in their journey towards diagnosis.', 'topic': ['Human Centred Design', 'Health & Wellbeing']}, 'Kayal Lakshmanan': {'display_name': 'Dr Kayal Lakshmanan', 'webpage': '', 'image': '/img/people/KL_Kayal Lakshmanan.jpeg', 'role': 'pdra', 'bio': 'Dr Kayal Lakshmanan is a Post-Doctoral Research Officer in EPSRC funded ”Materials Made Smarter Centre: Advanced Digital Modelling of Steel Processing” at the Faculty of Science and Engineering, Swansea University. Prior to this, she worked as a research assistant on UKRI-funded Parking and AiR pollution SEnsoRs for Smart Cities (PARSER) and ASTUTE 2020. Dr Lakshmanan has an Erasmus Mundus Joint PhD from Zienkiewicz Centre for Computational Engineering, Swansea University, and the University of Pavia, on Predictive maintenance of an external gear pump using Machine learning algorithms. Dr Lakshmanan’s primary research focus is on AI in smart manufacturing, hybrid modelling, optimisation, and applying Machine Learning to various real-world applications.', 'topic': ['Human-Centred AI Interaction', 'Engineering & Smart Manufacturing']}, 'Muneeb Ahmad': {'display_name': 'Muneeb Imtiaz Ahmad', 'webpage': '', 'image': '/img/people/123639069_10159578421168455_56627592342509226_Muneeb Ahmad.jpg', 'role': 'academic', 'bio': 'Dr. Muneeb Ahmad joined the Department of Computer Science as Lecturer at Swansea University in 2020. His research focuses on employing methods from the field of human-centred design to create intelligent interactive systems such as social robots, and user interfaces that can adapt to users through real-time analysis of their social signals and physiological data. He is interested in the applications of machine learning to implement intelligent interactive systems. The work further involves evaluation of these interactive systems to study their impact on human behaviour mainly to see their level of social engagement, cognitive load, perceived trust, and performance. Prior to joining Swansea University, He has worked as a Research Associate at the Edinburgh Centre for Robotics in the Department of Computer Science at the Heriot-Watt University on the EPSRC ORCA-Hub project, where he led the development of a measurement of Cognitive load in the Human-Robotic/Computer Interaction', 'topic': ['Human-Centred AI Interaction', 'Human Centred Design', 'Education', 'Health & Wellbeing', 'Human Robot Interaction']}, 'GENEVIEVE CLIFFORD': {'display_name': 'Genevieve Clifford', 'webpage': 'https://walesdtp.ac.uk/profile/clifford-genevieve', 'image': '/img/people/fitlab_profile_picture_GENEVIEVE CLIFFORD.jpg', 'role': 'pgr', 'bio': \"I'm interested in addressing digital literacy gaps and community technology. My PhD project will unite these two topic areas by using a community-led, co-designed digital infrastructure project to foster capability for digital skills in a target community in South Wales. I'm currently in the doctoral training year of a 1+3 ESRC Wales DTP funded studentship (as part of the Digital Economy and Society pathway). \", 'topic': ['Education', 'Digital Economy', 'Emergent Users & Technology Resource\\xa0Constraint ']}, 'RORY CLARK': {'display_name': 'Rory Clark', 'webpage': '', 'image': '/img/people/IMG_2031_RORY CLARK.jpeg', 'role': 'pgr', 'bio': 'Background In Social Sciences From Swansea University', 'topic': ['Human Centred Design', 'Human-Centred AI Interaction', 'Health & Wellbeing']}, 'Chat Wacharamanotham': {'display_name': 'Chat Wacharamanotham', 'webpage': 'https://chatchavan.github.io', 'image': '/img/people/Wacharamanotham - Face only_Chat Wacharamanotham.png', 'role': 'academic', 'bio': 'My mission is to promote research transparency and Open Science. I work toward this mission through research, teaching, and community work. My research focuses on understanding how people plan, report, read, and share knowledge from their research. I develop tools to facilitate researchers in these activities to reduce the efforts required to conduct research in a transparent manner. Together with colleagues, I studied practices in sharing research materials and eye movement behaviour in research reading. We also developed tools for designing experiments, determining the sample size, and choosing statistical analysis procedures. I previously taught courses and gave lectures in quantitative research methods, including a course at the ACM CHI conference in 2022—which is one of the top conferences in the field of Human–Computer Interaction. I co-organize the community-led group of Transparent Statistics in Human–Computer Interaction. We organize events at ACM CHI and IEEE VIS conferences related to this topic. Key output includes the addition of Transparency aspect in the CHI reviewing guidelines, and the Transparent Statistics Guideline (work-in-progress). I organized the Dagstuhl Seminar Transparent Quantitative Research as a User Interface Problem in September 2022.', 'topic': ['Human Centred Design', 'Health & Wellbeing']}, 'MATTHEW CHRISTIAN HALL': {'display_name': 'Matt Hall', 'webpage': 'https://matthall.io/', 'image': '/img/people/matt_cdt_rec_crop (1)_MATTHEW CHRISTIAN HA.jpg', 'role': 'pgr', 'bio': 'PhD student looking at digital cancer interventions to empower patients in Wales', 'topic': ['Human Centred Design', 'Health & Wellbeing']}, 'Sean Walton': {'display_name': 'Sean Walton', 'webpage': 'https://www.swansea.ac.uk/staff/s.p.walton/', 'image': '/img/people/profile_pic_new_Sean Walton.png', 'role': 'academic', 'bio': 'Dr Sean Walton is a Computer Science Lecturer at Swansea University, Sêr Cymru II Fellow, and Founding Director of Pill Bug Interactive (https://www.pillbug.zone/), a BAFTA Cymru nominated games development studio. Sean’s research background is primarily in using evolutionary optimisation techniques in engineering. Since joining the Computational Foundry at Swansea he has expanded his research interests into educational technology and the procedural generation of video game content.', 'topic': ['Human Centred Design', 'Human-Centred AI Interaction', 'Education', 'Engineering & Smart Manufacturing']}}\n"
     ]
    }
   ],
   "source": [
    "with open(people_data_path) as f:\n",
    "    data = yaml.load(f, Loader=SafeLoader)\n",
    "    print(data)"
   ]
  },
  {
   "cell_type": "code",
   "execution_count": 129,
   "id": "b0fe9cb7",
   "metadata": {},
   "outputs": [],
   "source": [
    "for person in people:\n",
    "    if (person[4] in data):\n",
    "        pass\n",
    "    else:\n",
    "        print(person[4])\n",
    "        new_dict = {\"display_name\" : person[5] ,\n",
    "                   \"webpage\": person[10],\n",
    "                   \"image\" : \"/img/people/\" + person[7],\n",
    "                   \"role\" : person[9].lower(),\n",
    "                   \"bio\" : person[6].replace(\"!!\",\",\"),\n",
    "                   \"topic\" : person[8].split(\";\")[:-1],\n",
    "                   }\n",
    "        data[person[4]] = new_dict\n",
    "        #data[person[4].toString()]"
   ]
  },
  {
   "cell_type": "code",
   "execution_count": 132,
   "id": "f244e2ac",
   "metadata": {},
   "outputs": [],
   "source": [
    "from collections import OrderedDict"
   ]
  },
  {
   "cell_type": "code",
   "execution_count": 135,
   "id": "3761cd35",
   "metadata": {},
   "outputs": [],
   "source": [
    "data"
   ]
  },
  {
   "cell_type": "code",
   "execution_count": 131,
   "id": "d31e6fdb",
   "metadata": {},
   "outputs": [],
   "source": [
    "with open(people_data_path, 'w') as f:\n",
    "    data = yaml.dump(data, f, sort_keys=False, default_flow_style=False)\n",
    " \n",
    "    "
   ]
  },
  {
   "cell_type": "code",
   "execution_count": null,
   "id": "15ccf376",
   "metadata": {},
   "outputs": [],
   "source": []
  }
 ],
 "metadata": {
  "kernelspec": {
   "display_name": "Python 3 (ipykernel)",
   "language": "python",
   "name": "python3"
  },
  "language_info": {
   "codemirror_mode": {
    "name": "ipython",
    "version": 3
   },
   "file_extension": ".py",
   "mimetype": "text/x-python",
   "name": "python",
   "nbconvert_exporter": "python",
   "pygments_lexer": "ipython3",
   "version": "3.8.10"
  }
 },
 "nbformat": 4,
 "nbformat_minor": 5
}
