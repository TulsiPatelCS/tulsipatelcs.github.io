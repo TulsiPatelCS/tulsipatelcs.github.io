{
 "cells": [
  {
   "cell_type": "code",
   "execution_count": 199,
   "id": "cf772391",
   "metadata": {},
   "outputs": [],
   "source": [
    "import csv\n",
    "import numpy as np\n",
    "import os\n",
    "import glob\n",
    "import yaml\n",
    "from yaml.loader import SafeLoader"
   ]
  },
  {
   "cell_type": "code",
   "execution_count": 200,
   "id": "cf2dece0",
   "metadata": {},
   "outputs": [
    {
     "name": "stdout",
     "output_type": "stream",
     "text": [
      "Human Centred Research Web Presence - Person Form(1-6).csv\n",
      "Human Centred Research Web Presence - Project form(1-1).csv\n"
     ]
    }
   ],
   "source": [
    "forms = []\n",
    "for path in os.listdir(os.getcwd()+\"\\\\forms\\\\\"):\n",
    "    # check if current path is a file\n",
    "    print(path)\n",
    "    if (\"person\" in path.lower()):\n",
    "        forms.append(path)\n",
    "    elif (\"project\" in path.lower()):\n",
    "        forms.append(path)\n"
   ]
  },
  {
   "cell_type": "code",
   "execution_count": 201,
   "id": "2b151215",
   "metadata": {},
   "outputs": [],
   "source": [
    "file_reader = []\n",
    "with open(os.path.join(os.getcwd() + \"\\\\forms\\\\\",forms[1]),encoding = \"utf8\") as csvfile:\n",
    "    spamreader = csv.reader(csvfile, delimiter=',', quotechar='|')\n",
    "    for row in spamreader:\n",
    "        file_reader.append(row)\n",
    "del file_reader[0]"
   ]
  },
  {
   "cell_type": "code",
   "execution_count": 202,
   "id": "eb19a131",
   "metadata": {},
   "outputs": [],
   "source": [
    "file_reader = np.array(file_reader)"
   ]
  },
  {
   "cell_type": "code",
   "execution_count": 203,
   "id": "c05e214c",
   "metadata": {},
   "outputs": [
    {
     "data": {
      "text/plain": [
       "array(['1', '11/2/22 17:46:41', '11/2/22 17:52:19',\n",
       "       '2138010@Swansea.ac.uk', 'PRANJAL JAIN', 'Pranjal Jain',\n",
       "       'Immersive Data Capture and Presentation for Industrial Decision-Making and Knowledge-Sharing',\n",
       "       '\"Much intangible knowledge in terms of experiences and intuitions in a large industrial setting is confined to experts',\n",
       "       ' making it inaccessible for organisations to capitalise on by improving their workflow. If harnessed',\n",
       "       \" experts' experiences and practices could help novice employees do their work efficiently. Understanding experts' experiences and intuition could help organisations maintain critical knowledge\",\n",
       "       ' known as tacit knowledge. Through tacit knowledge',\n",
       "       ' organisations could aggregate learnings and cooperate to produce faster and more efficient results. To further advance the concept of tacit knowledge',\n",
       "       ' Swansea University and British Telecom (BT) would explore different methods to capture physiological data and evaluate the possibility of Artificial Intelligence in the collective management and distribution of tacit knowledge. Through this collaboration',\n",
       "       ' we would recommend human-centred design methods that would help characterise experts\\' tacit knowledge and capture it through non-intrusive ways.\"',\n",
       "       'https://swanseauniversity-my.sharepoint.com/personal/m_j_roach_swansea_ac_uk/Documents/Apps/Microsoft%20Forms/Human%20Centred%20Research%20Web%20Presence%20form%201/Question/Analysis_P024x_PRANJAL%20JAIN.jpg',\n",
       "       '', '', '\"Simon Robinson', ' Matt Jones', ' Alan Dix',\n",
       "       ' Deepak Sahoo', ' Marc Holmes', ' Anasol Pena Rios\"',\n",
       "       'Human Centred Design;Human-Centred AI Interaction;Tangible User Interfaces;'],\n",
       "      dtype='<U255')"
      ]
     },
     "execution_count": 203,
     "metadata": {},
     "output_type": "execute_result"
    }
   ],
   "source": [
    "file_reader[0]"
   ]
  },
  {
   "cell_type": "code",
   "execution_count": 204,
   "id": "18678c01",
   "metadata": {},
   "outputs": [
    {
     "name": "stdout",
     "output_type": "stream",
     "text": [
      "1\n",
      "11/2/22 17:46:41\n",
      "11/2/22 17:52:19\n",
      "2138010@Swansea.ac.uk\n",
      "PRANJAL JAIN\n",
      "Pranjal Jain\n",
      "Immersive Data Capture and Presentation for Industrial Decision-Making and Knowledge-Sharing\n",
      "\"Much intangible knowledge in terms of experiences and intuitions in a large industrial setting is confined to experts\n",
      " making it inaccessible for organisations to capitalise on by improving their workflow. If harnessed\n",
      " experts' experiences and practices could help novice employees do their work efficiently. Understanding experts' experiences and intuition could help organisations maintain critical knowledge\n",
      " known as tacit knowledge. Through tacit knowledge\n",
      " organisations could aggregate learnings and cooperate to produce faster and more efficient results. To further advance the concept of tacit knowledge\n",
      " Swansea University and British Telecom (BT) would explore different methods to capture physiological data and evaluate the possibility of Artificial Intelligence in the collective management and distribution of tacit knowledge. Through this collaboration\n",
      " we would recommend human-centred design methods that would help characterise experts' tacit knowledge and capture it through non-intrusive ways.\"\n",
      "https://swanseauniversity-my.sharepoint.com/personal/m_j_roach_swansea_ac_uk/Documents/Apps/Microsoft%20Forms/Human%20Centred%20Research%20Web%20Presence%20form%201/Question/Analysis_P024x_PRANJAL%20JAIN.jpg\n",
      "\n",
      "\n",
      "\"Simon Robinson\n",
      " Matt Jones\n",
      " Alan Dix\n",
      " Deepak Sahoo\n",
      " Marc Holmes\n",
      " Anasol Pena Rios\"\n",
      "Human Centred Design;Human-Centred AI Interaction;Tangible User Interfaces;\n"
     ]
    }
   ],
   "source": [
    "for x in file_reader:\n",
    "    for y in x:\n",
    "        print(y)"
   ]
  },
  {
   "cell_type": "code",
   "execution_count": 205,
   "id": "a914e50b",
   "metadata": {},
   "outputs": [
    {
     "data": {
      "text/plain": [
       "True"
      ]
     },
     "execution_count": 205,
     "metadata": {},
     "output_type": "execute_result"
    }
   ],
   "source": [
    "file_reader[0][7][0] == \"\\\"\""
   ]
  },
  {
   "cell_type": "code",
   "execution_count": 206,
   "id": "88f486d1",
   "metadata": {},
   "outputs": [
    {
     "name": "stdout",
     "output_type": "stream",
     "text": [
      "\"Much intangible knowledge in terms of experiences and intuitions in a large industrial setting is confined to experts\n",
      " we would recommend human-centred design methods that would help characterise experts' tacit knowledge and capture it through non-intrusive ways.\"\n",
      "check success\n"
     ]
    }
   ],
   "source": [
    "project = []\n",
    "paragraph = \"\"\n",
    "paragraph_flag = False\n",
    "url_check = False\n",
    "for x in file_reader:\n",
    "    temp_proj = []\n",
    "    for y in x:\n",
    "        \n",
    "        if(len(y) == 0):\n",
    "            temp_proj.extend([\"\"])\n",
    "            continue\n",
    "        if (\"https://swanseauniversity-my.sharepoint.com/\" in y):\n",
    "            url_check = True\n",
    "            print(\"check success\")\n",
    "        if(not url_check):\n",
    "            if(y[0] == \"\\\"\" and y[-1] != \"\\\"\"):\n",
    "                print(y)\n",
    "                paragraph_flag = True\n",
    "                paragraph = paragraph + y\n",
    "            elif(paragraph_flag):\n",
    "                if(y[-1] == \"\\\"\"):\n",
    "                    paragraph = paragraph+ y\n",
    "                    temp_proj.extend([paragraph])\n",
    "                    paragraph= \"\"\n",
    "                    paragraph_flag = False\n",
    "                    print(y)\n",
    "                else:\n",
    "                    paragraph = paragraph + y\n",
    "            else:\n",
    "                temp_proj.extend([y])\n",
    "        else:\n",
    "            temp_proj.extend([y])\n",
    "    \n",
    "    project.append(temp_proj)"
   ]
  },
  {
   "cell_type": "code",
   "execution_count": 207,
   "id": "9e111925",
   "metadata": {},
   "outputs": [
    {
     "data": {
      "text/plain": [
       "[['1',\n",
       "  '11/2/22 17:46:41',\n",
       "  '11/2/22 17:52:19',\n",
       "  '2138010@Swansea.ac.uk',\n",
       "  'PRANJAL JAIN',\n",
       "  'Pranjal Jain',\n",
       "  'Immersive Data Capture and Presentation for Industrial Decision-Making and Knowledge-Sharing',\n",
       "  '\"Much intangible knowledge in terms of experiences and intuitions in a large industrial setting is confined to experts making it inaccessible for organisations to capitalise on by improving their workflow. If harnessed experts\\' experiences and practices could help novice employees do their work efficiently. Understanding experts\\' experiences and intuition could help organisations maintain critical knowledge known as tacit knowledge. Through tacit knowledge organisations could aggregate learnings and cooperate to produce faster and more efficient results. To further advance the concept of tacit knowledge Swansea University and British Telecom (BT) would explore different methods to capture physiological data and evaluate the possibility of Artificial Intelligence in the collective management and distribution of tacit knowledge. Through this collaboration we would recommend human-centred design methods that would help characterise experts\\' tacit knowledge and capture it through non-intrusive ways.\"',\n",
       "  'https://swanseauniversity-my.sharepoint.com/personal/m_j_roach_swansea_ac_uk/Documents/Apps/Microsoft%20Forms/Human%20Centred%20Research%20Web%20Presence%20form%201/Question/Analysis_P024x_PRANJAL%20JAIN.jpg',\n",
       "  '',\n",
       "  '',\n",
       "  '\"Simon Robinson',\n",
       "  ' Matt Jones',\n",
       "  ' Alan Dix',\n",
       "  ' Deepak Sahoo',\n",
       "  ' Marc Holmes',\n",
       "  ' Anasol Pena Rios\"',\n",
       "  'Human Centred Design;Human-Centred AI Interaction;Tangible User Interfaces;']]"
      ]
     },
     "execution_count": 207,
     "metadata": {},
     "output_type": "execute_result"
    }
   ],
   "source": [
    "project"
   ]
  },
  {
   "cell_type": "code",
   "execution_count": 208,
   "id": "9a655bd7",
   "metadata": {},
   "outputs": [
    {
     "data": {
      "text/plain": [
       "['1',\n",
       " '11/2/22 17:46:41',\n",
       " '11/2/22 17:52:19',\n",
       " '2138010@Swansea.ac.uk',\n",
       " 'PRANJAL JAIN',\n",
       " 'Pranjal Jain',\n",
       " 'Immersive Data Capture and Presentation for Industrial Decision-Making and Knowledge-Sharing',\n",
       " '\"Much intangible knowledge in terms of experiences and intuitions in a large industrial setting is confined to experts making it inaccessible for organisations to capitalise on by improving their workflow. If harnessed experts\\' experiences and practices could help novice employees do their work efficiently. Understanding experts\\' experiences and intuition could help organisations maintain critical knowledge known as tacit knowledge. Through tacit knowledge organisations could aggregate learnings and cooperate to produce faster and more efficient results. To further advance the concept of tacit knowledge Swansea University and British Telecom (BT) would explore different methods to capture physiological data and evaluate the possibility of Artificial Intelligence in the collective management and distribution of tacit knowledge. Through this collaboration we would recommend human-centred design methods that would help characterise experts\\' tacit knowledge and capture it through non-intrusive ways.\"',\n",
       " 'https://swanseauniversity-my.sharepoint.com/personal/m_j_roach_swansea_ac_uk/Documents/Apps/Microsoft%20Forms/Human%20Centred%20Research%20Web%20Presence%20form%201/Question/Analysis_P024x_PRANJAL%20JAIN.jpg',\n",
       " '',\n",
       " '']"
      ]
     },
     "execution_count": 208,
     "metadata": {},
     "output_type": "execute_result"
    }
   ],
   "source": [
    "project[0][0:11]"
   ]
  },
  {
   "cell_type": "code",
   "execution_count": 209,
   "id": "859a0378",
   "metadata": {},
   "outputs": [
    {
     "data": {
      "text/plain": [
       "['1',\n",
       " '11/2/22 17:46:41',\n",
       " '11/2/22 17:52:19',\n",
       " '2138010@Swansea.ac.uk',\n",
       " 'PRANJAL JAIN',\n",
       " 'Pranjal Jain',\n",
       " 'Immersive Data Capture and Presentation for Industrial Decision-Making and Knowledge-Sharing',\n",
       " '\"Much intangible knowledge in terms of experiences and intuitions in a large industrial setting is confined to experts making it inaccessible for organisations to capitalise on by improving their workflow. If harnessed experts\\' experiences and practices could help novice employees do their work efficiently. Understanding experts\\' experiences and intuition could help organisations maintain critical knowledge known as tacit knowledge. Through tacit knowledge organisations could aggregate learnings and cooperate to produce faster and more efficient results. To further advance the concept of tacit knowledge Swansea University and British Telecom (BT) would explore different methods to capture physiological data and evaluate the possibility of Artificial Intelligence in the collective management and distribution of tacit knowledge. Through this collaboration we would recommend human-centred design methods that would help characterise experts\\' tacit knowledge and capture it through non-intrusive ways.\"',\n",
       " 'https://swanseauniversity-my.sharepoint.com/personal/m_j_roach_swansea_ac_uk/Documents/Apps/Microsoft%20Forms/Human%20Centred%20Research%20Web%20Presence%20form%201/Question/Analysis_P024x_PRANJAL%20JAIN.jpg',\n",
       " '',\n",
       " '',\n",
       " '\"Simon Robinson',\n",
       " ' Matt Jones',\n",
       " ' Alan Dix',\n",
       " ' Deepak Sahoo',\n",
       " ' Marc Holmes',\n",
       " ' Anasol Pena Rios\"',\n",
       " 'Human Centred Design;Human-Centred AI Interaction;Tangible User Interfaces;']"
      ]
     },
     "execution_count": 209,
     "metadata": {},
     "output_type": "execute_result"
    }
   ],
   "source": [
    "project[0]"
   ]
  },
  {
   "cell_type": "code",
   "execution_count": 210,
   "id": "375f0443",
   "metadata": {},
   "outputs": [
    {
     "name": "stdout",
     "output_type": "stream",
     "text": [
      "['1', '11/2/22 17:46:41', '11/2/22 17:52:19', '2138010@Swansea.ac.uk', 'PRANJAL JAIN', 'Pranjal Jain', 'Immersive Data Capture and Presentation for Industrial Decision-Making and Knowledge-Sharing', '\"Much intangible knowledge in terms of experiences and intuitions in a large industrial setting is confined to experts making it inaccessible for organisations to capitalise on by improving their workflow. If harnessed experts\\' experiences and practices could help novice employees do their work efficiently. Understanding experts\\' experiences and intuition could help organisations maintain critical knowledge known as tacit knowledge. Through tacit knowledge organisations could aggregate learnings and cooperate to produce faster and more efficient results. To further advance the concept of tacit knowledge Swansea University and British Telecom (BT) would explore different methods to capture physiological data and evaluate the possibility of Artificial Intelligence in the collective management and distribution of tacit knowledge. Through this collaboration we would recommend human-centred design methods that would help characterise experts\\' tacit knowledge and capture it through non-intrusive ways.\"', 'https://swanseauniversity-my.sharepoint.com/personal/m_j_roach_swansea_ac_uk/Documents/Apps/Microsoft%20Forms/Human%20Centred%20Research%20Web%20Presence%20form%201/Question/Analysis_P024x_PRANJAL%20JAIN.jpg', '', '', '\"Simon Robinson', ' Matt Jones', ' Alan Dix', ' Deepak Sahoo', ' Marc Holmes', ' Anasol Pena Rios\"', 'Human Centred Design;Human-Centred AI Interaction;Tangible User Interfaces;']\n"
     ]
    }
   ],
   "source": [
    "for x in project:\n",
    "    print(x)"
   ]
  },
  {
   "cell_type": "code",
   "execution_count": 211,
   "id": "10bdf137",
   "metadata": {},
   "outputs": [
    {
     "name": "stdout",
     "output_type": "stream",
     "text": [
      "\"Simon Robinson\n",
      " Matt Jones\n",
      " Alan Dix\n",
      " Deepak Sahoo\n",
      " Marc Holmes\n",
      " Anasol Pena Rios\"\n"
     ]
    }
   ],
   "source": [
    " for y in range(11,11+len(x[11:-1]),1):\n",
    "        print(x[y])"
   ]
  },
  {
   "cell_type": "code",
   "execution_count": 212,
   "id": "b1627767",
   "metadata": {},
   "outputs": [
    {
     "name": "stdout",
     "output_type": "stream",
     "text": [
      "1\n",
      "[' Simon Robinson', ' Matt Jones', ' Alan Dix', ' Deepak Sahoo', ' Marc Holmes', ' Anasol Pena Rios']\n",
      "['Human Centred Design;Human-Centred AI Interaction;Tangible User Interfaces;']\n"
     ]
    }
   ],
   "source": [
    "project_revised = []\n",
    "\n",
    "for x in project:\n",
    "    temp_proj = []\n",
    "    print(\"1\")\n",
    "    people = []\n",
    "    for y in range(11,11+len(x[11:-1]),1):\n",
    "        #print(y)\n",
    "        if y ==11:\n",
    "            people.append(\" \" + x[y][1:])\n",
    "        elif y ==10+len(x[11:-1]):\n",
    "            people.append(x[y][:-1])  \n",
    "        else:\n",
    "            people.append(x[y])\n",
    "    print(people)\n",
    "    temp_proj.extend(x[0:8])\n",
    "    temp_proj.extend([x[8].split(\"/\")[-1].replace(\"%20\", \" \")])\n",
    "    temp_proj.extend(x[9:11])\n",
    "    temp_proj.extend([people])\n",
    "    print([x[-1]])\n",
    "    temp_proj.extend([x[-1].split(\";\")])\n",
    "    #print(people)\n",
    "    project_revised.append(temp_proj)\n"
   ]
  },
  {
   "cell_type": "code",
   "execution_count": 213,
   "id": "e76a2233",
   "metadata": {},
   "outputs": [
    {
     "data": {
      "text/plain": [
       "[['1',\n",
       "  '11/2/22 17:46:41',\n",
       "  '11/2/22 17:52:19',\n",
       "  '2138010@Swansea.ac.uk',\n",
       "  'PRANJAL JAIN',\n",
       "  'Pranjal Jain',\n",
       "  'Immersive Data Capture and Presentation for Industrial Decision-Making and Knowledge-Sharing',\n",
       "  '\"Much intangible knowledge in terms of experiences and intuitions in a large industrial setting is confined to experts making it inaccessible for organisations to capitalise on by improving their workflow. If harnessed experts\\' experiences and practices could help novice employees do their work efficiently. Understanding experts\\' experiences and intuition could help organisations maintain critical knowledge known as tacit knowledge. Through tacit knowledge organisations could aggregate learnings and cooperate to produce faster and more efficient results. To further advance the concept of tacit knowledge Swansea University and British Telecom (BT) would explore different methods to capture physiological data and evaluate the possibility of Artificial Intelligence in the collective management and distribution of tacit knowledge. Through this collaboration we would recommend human-centred design methods that would help characterise experts\\' tacit knowledge and capture it through non-intrusive ways.\"',\n",
       "  'Analysis_P024x_PRANJAL JAIN.jpg',\n",
       "  '',\n",
       "  '',\n",
       "  [' Simon Robinson',\n",
       "   ' Matt Jones',\n",
       "   ' Alan Dix',\n",
       "   ' Deepak Sahoo',\n",
       "   ' Marc Holmes',\n",
       "   ' Anasol Pena Rios'],\n",
       "  ['Human Centred Design',\n",
       "   'Human-Centred AI Interaction',\n",
       "   'Tangible User Interfaces',\n",
       "   '']]]"
      ]
     },
     "execution_count": 213,
     "metadata": {},
     "output_type": "execute_result"
    }
   ],
   "source": [
    "project_revised"
   ]
  },
  {
   "cell_type": "code",
   "execution_count": 214,
   "id": "47c71f87",
   "metadata": {},
   "outputs": [],
   "source": [
    "curr_projects = []\n",
    "for path in os.listdir(os.getcwd()+\"\\\\_projects\\\\\"):\n",
    "    curr_projects.append(path)"
   ]
  },
  {
   "cell_type": "code",
   "execution_count": 215,
   "id": "22c3afb2",
   "metadata": {},
   "outputs": [
    {
     "data": {
      "text/plain": [
       "['a-project.md',\n",
       " 'big-project.md',\n",
       " 'logo-project.md',\n",
       " 'longer-project.md',\n",
       " 'Pranjal Jain.md',\n",
       " 'short-inactive-project.md']"
      ]
     },
     "execution_count": 215,
     "metadata": {},
     "output_type": "execute_result"
    }
   ],
   "source": [
    "curr_projects"
   ]
  },
  {
   "cell_type": "code",
   "execution_count": 216,
   "id": "f62650fd",
   "metadata": {},
   "outputs": [],
   "source": [
    "curr_proj = []\n"
   ]
  },
  {
   "cell_type": "code",
   "execution_count": 217,
   "id": "e869d7db",
   "metadata": {},
   "outputs": [
    {
     "name": "stdout",
     "output_type": "stream",
     "text": [
      "{'title': 'Pranjal Jain', 'description': 'Immersive Data Capture and Presentation for Industrial Decision-Making and Knowledge-Sharing', 'layout': 'project', 'image': '/img/Analysis_P024x_PRANJAL JAIN.jpg', 'people': ['Simon Robinson', 'Matt Jones', 'Alan Dix', 'Deepak Sahoo', 'Marc Holmes', 'Anasol Pena Rios'], 'topic': ['Human Centred Design', 'Human-Centred AI Interaction', 'Tangible User Interfaces']}\n"
     ]
    }
   ],
   "source": [
    "for project in project_revised:\n",
    "    if project[6] in curr_projects:\n",
    "        continue\n",
    "    else:\n",
    "        new_dict = {}\n",
    "        new_dict = {\"title\" : str(project[5]) ,\n",
    "                    \"description\": str(project[6]),\n",
    "                    \"layout\" : \"project\",\n",
    "                    \"image\" : \"/img/\" + str(project[8]),\n",
    "                    \"people\" : [str(i).replace(\" \",\"\",1) for i in project[11]],\n",
    "                    \"topic\" : [str(i) for i in project[12][:-1]],\n",
    "                   }\n",
    "        if not str(project[9]):\n",
    "            pass\n",
    "        else:\n",
    "            new_dict[\"link\"] = project[9]\n",
    "        print(new_dict)\n",
    "        with open(os.getcwd()+\"\\\\_projects\\\\\"+project[5]+\".md\", 'w') as f:\n",
    "            f.write(\"---\\n\")\n",
    "            new_dict = yaml.dump(new_dict, f, sort_keys=False, default_flow_style=False)\n",
    "            f.write(\"--- \\n\")\n",
    "            f.write(project[7][1:-1])"
   ]
  },
  {
   "cell_type": "code",
   "execution_count": 196,
   "id": "668ad368",
   "metadata": {},
   "outputs": [
    {
     "data": {
      "text/plain": [
       "' Alan Dix'"
      ]
     },
     "execution_count": 196,
     "metadata": {},
     "output_type": "execute_result"
    }
   ],
   "source": [
    "project[11][2].replace(\"\",\"\")"
   ]
  },
  {
   "cell_type": "code",
   "execution_count": 191,
   "id": "12d085a7",
   "metadata": {},
   "outputs": [
    {
     "data": {
      "text/plain": [
       "'Human Centred Design'"
      ]
     },
     "execution_count": 191,
     "metadata": {},
     "output_type": "execute_result"
    }
   ],
   "source": []
  },
  {
   "cell_type": "code",
   "execution_count": null,
   "id": "ec45740a",
   "metadata": {},
   "outputs": [],
   "source": []
  }
 ],
 "metadata": {
  "kernelspec": {
   "display_name": "Python 3",
   "language": "python",
   "name": "python3"
  },
  "language_info": {
   "codemirror_mode": {
    "name": "ipython",
    "version": 3
   },
   "file_extension": ".py",
   "mimetype": "text/x-python",
   "name": "python",
   "nbconvert_exporter": "python",
   "pygments_lexer": "ipython3",
   "version": "3.8.9"
  }
 },
 "nbformat": 4,
 "nbformat_minor": 5
}
