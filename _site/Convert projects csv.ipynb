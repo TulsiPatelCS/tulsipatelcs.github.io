{
 "cells": [
  {
   "cell_type": "code",
   "execution_count": 28,
   "id": "cf772391",
   "metadata": {},
   "outputs": [],
   "source": [
    "import csv\n",
    "import numpy as np\n",
    "import os\n",
    "import glob\n",
    "import yaml\n",
    "from yaml.loader import SafeLoader"
   ]
  },
  {
   "cell_type": "code",
   "execution_count": 29,
   "id": "cf2dece0",
   "metadata": {},
   "outputs": [
    {
     "name": "stdout",
     "output_type": "stream",
     "text": [
      "Human Centred Research Web Presence - Person Form(1-13).csv\n",
      "Human Centred Research Web Presence - Project form(1-5).csv\n"
     ]
    }
   ],
   "source": [
    "forms = []\n",
    "for path in os.listdir(os.getcwd()+\"\\\\forms\\\\\"):\n",
    "    # check if current path is a file\n",
    "    print(path)\n",
    "    if (\"person\" in path.lower()):\n",
    "        forms.append(path)\n",
    "    elif (\"project\" in path.lower()):\n",
    "        forms.append(path)\n"
   ]
  },
  {
   "cell_type": "code",
   "execution_count": 30,
   "id": "2b151215",
   "metadata": {},
   "outputs": [],
   "source": [
    "file_reader = []\n",
    "with open(os.path.join(os.getcwd() + \"\\\\forms\\\\\",forms[1]),encoding = \"utf8\") as csvfile:\n",
    "    spamreader = csv.reader(csvfile, delimiter=',', quotechar='|')\n",
    "    for row in spamreader:\n",
    "        file_reader.append(row)\n"
   ]
  },
  {
   "cell_type": "code",
   "execution_count": 31,
   "id": "38a174dc",
   "metadata": {},
   "outputs": [
    {
     "data": {
      "text/plain": [
       "['\\ufeffID',\n",
       " 'Start time',\n",
       " 'Completion time',\n",
       " 'Email',\n",
       " 'Name',\n",
       " 'Column',\n",
       " 'Project Short Description (two lines)',\n",
       " 'Project Description (long - 1 page)',\n",
       " 'Project image',\n",
       " 'Project Web page URL',\n",
       " 'Gateway to research page URL',\n",
       " 'List all the people associated with this Project\\xa0',\n",
       " 'Topic tags (Tick all that relate to the proejct)']"
      ]
     },
     "execution_count": 31,
     "metadata": {},
     "output_type": "execute_result"
    }
   ],
   "source": [
    "file_reader[0]"
   ]
  },
  {
   "cell_type": "code",
   "execution_count": 32,
   "id": "4e23508c",
   "metadata": {},
   "outputs": [],
   "source": [
    "del file_reader[0]"
   ]
  },
  {
   "cell_type": "code",
   "execution_count": 33,
   "id": "eb19a131",
   "metadata": {},
   "outputs": [],
   "source": [
    "file_reader = np.array(file_reader)"
   ]
  },
  {
   "cell_type": "code",
   "execution_count": 34,
   "id": "47c71f87",
   "metadata": {},
   "outputs": [],
   "source": [
    "curr_projects = []\n",
    "for path in os.listdir(os.getcwd()+\"\\\\_projects\\\\\"):\n",
    "    curr_projects.append(path)"
   ]
  },
  {
   "cell_type": "code",
   "execution_count": 35,
   "id": "22c3afb2",
   "metadata": {},
   "outputs": [
    {
     "data": {
      "text/plain": [
       "['Muneeb Imtiaz Ahmad.md', 'Pranjal Jain.md', 'Rory Clark.md']"
      ]
     },
     "execution_count": 35,
     "metadata": {},
     "output_type": "execute_result"
    }
   ],
   "source": [
    "curr_projects"
   ]
  },
  {
   "cell_type": "code",
   "execution_count": 44,
   "id": "f1b08661",
   "metadata": {},
   "outputs": [
    {
     "data": {
      "text/plain": [
       "'RORY CLARK'"
      ]
     },
     "execution_count": 44,
     "metadata": {},
     "output_type": "execute_result"
    }
   ],
   "source": [
    "file_reader[2][4]"
   ]
  },
  {
   "cell_type": "code",
   "execution_count": 37,
   "id": "f62650fd",
   "metadata": {},
   "outputs": [],
   "source": [
    "curr_proj = []\n"
   ]
  },
  {
   "cell_type": "code",
   "execution_count": 38,
   "id": "44aec25b",
   "metadata": {},
   "outputs": [],
   "source": [
    "import unicodedata"
   ]
  },
  {
   "cell_type": "code",
   "execution_count": 45,
   "id": "e869d7db",
   "metadata": {},
   "outputs": [],
   "source": [
    "for project in file_reader:\n",
    "    if project[6] in curr_projects:\n",
    "        continue\n",
    "    else:\n",
    "        new_dict = {}\n",
    "        new_dict = {\"title\" : unicodedata.normalize('NFKC',str(project[5].replace(\"!!\",\",\"))) ,\n",
    "                    \"description\": unicodedata.normalize('NFKC',str(project[6].replace(\"!!\",\",\"))),\n",
    "                    \"layout\" : \"project\",\n",
    "                    \"image\" : \"/img/\" + str(project[8]).split(\"/\")[-1].replace(\"%20\", \" \"),\n",
    "                    \"people\" : project[11].replace(\"!!\",\",\").split(\",\"),\n",
    "                    \"topic\" : project[12].split(\";\"),\n",
    "                   }\n",
    "        if not str(project[9]):\n",
    "            pass\n",
    "        else:\n",
    "            new_dict[\"link\"] = project[9]\n",
    "        with open(os.getcwd()+\"\\\\_projects\\\\\"+unicodedata.normalize('NFKC',project[5].replace(\"!!\",\",\"))+\".md\", 'w') as f:\n",
    "            f.write(\"---\\n\")\n",
    "            new_dict = yaml.dump(new_dict, f, sort_keys=False, default_flow_style=False)\n",
    "            f.write(\"--- \\n\")\n",
    "            f.write(unicodedata.normalize('NFKC',project[5].replace(\"!!\",\",\")))"
   ]
  },
  {
   "cell_type": "code",
   "execution_count": null,
   "id": "2680eb94",
   "metadata": {},
   "outputs": [],
   "source": []
  },
  {
   "cell_type": "code",
   "execution_count": null,
   "id": "31e5a13e",
   "metadata": {},
   "outputs": [],
   "source": []
  },
  {
   "cell_type": "code",
   "execution_count": null,
   "id": "2f666a71",
   "metadata": {},
   "outputs": [],
   "source": []
  },
  {
   "cell_type": "code",
   "execution_count": null,
   "id": "d764d1b5",
   "metadata": {},
   "outputs": [],
   "source": []
  }
 ],
 "metadata": {
  "kernelspec": {
   "display_name": "Python 3 (ipykernel)",
   "language": "python",
   "name": "python3"
  },
  "language_info": {
   "codemirror_mode": {
    "name": "ipython",
    "version": 3
   },
   "file_extension": ".py",
   "mimetype": "text/x-python",
   "name": "python",
   "nbconvert_exporter": "python",
   "pygments_lexer": "ipython3",
   "version": "3.8.10"
  }
 },
 "nbformat": 4,
 "nbformat_minor": 5
}
