{
 "cells": [
  {
   "cell_type": "code",
   "execution_count": 8,
   "id": "cf772391",
   "metadata": {},
   "outputs": [],
   "source": [
    "import csv\n",
    "import numpy as np\n",
    "import os\n",
    "import glob\n",
    "import yaml\n",
    "from yaml.loader import SafeLoader"
   ]
  },
  {
   "cell_type": "code",
   "execution_count": 9,
   "id": "cf2dece0",
   "metadata": {},
   "outputs": [
    {
     "name": "stdout",
     "output_type": "stream",
     "text": [
      "Human Centred Research Web Presence - Person Form(1-13).csv\n",
      "Human Centred Research Web Presence - Project form(1-5).csv\n"
     ]
    }
   ],
   "source": [
    "forms = []\n",
    "for path in os.listdir(os.getcwd()+\"\\\\forms\\\\\"):\n",
    "    # check if current path is a file\n",
    "    print(path)\n",
    "    if (\"person\" in path.lower()):\n",
    "        forms.append(path)\n",
    "    elif (\"project\" in path.lower()):\n",
    "        forms.append(path)\n"
   ]
  },
  {
   "cell_type": "code",
   "execution_count": 10,
   "id": "2b151215",
   "metadata": {},
   "outputs": [],
   "source": [
    "file_reader = []\n",
    "with open(os.path.join(os.getcwd() + \"\\\\forms\\\\\",forms[1]),encoding = \"utf8\") as csvfile:\n",
    "    spamreader = csv.reader(csvfile, delimiter=',', quotechar='|')\n",
    "    for row in spamreader:\n",
    "        file_reader.append(row)\n"
   ]
  },
  {
   "cell_type": "code",
   "execution_count": 11,
   "id": "38a174dc",
   "metadata": {},
   "outputs": [
    {
     "data": {
      "text/plain": [
       "['\\ufeffID',\n",
       " 'Start time',\n",
       " 'Completion time',\n",
       " 'Email',\n",
       " 'Name',\n",
       " 'Column',\n",
       " 'Project Short Description (two lines)',\n",
       " 'Project Description (long - 1 page)',\n",
       " 'Project image',\n",
       " 'Project Web page URL',\n",
       " 'Gateway to research page URL',\n",
       " 'List all the people associated with this Project\\xa0',\n",
       " 'Topic tags (Tick all that relate to the proejct)']"
      ]
     },
     "execution_count": 11,
     "metadata": {},
     "output_type": "execute_result"
    }
   ],
   "source": [
    "file_reader[0]"
   ]
  },
  {
   "cell_type": "code",
   "execution_count": 12,
   "id": "4e23508c",
   "metadata": {},
   "outputs": [],
   "source": [
    "del file_reader[0]"
   ]
  },
  {
   "cell_type": "code",
   "execution_count": 13,
   "id": "50f650c7",
   "metadata": {},
   "outputs": [
    {
     "data": {
      "text/plain": [
       "['1',\n",
       " '11/02/2022 17:46',\n",
       " '11/02/2022 17:52',\n",
       " '2138010@Swansea.ac.uk',\n",
       " 'PRANJAL JAIN',\n",
       " 'Pranjal Jain',\n",
       " 'Immersive Data Capture and Presentation for Industrial Decision-Making and Knowledge-Sharing',\n",
       " \"Much intangible knowledge in terms of experiences and intuitions in a large industrial setting is confined to experts!! making it inaccessible for organisations to capitalise on by improving their workflow. If harnessed!! experts' experiences and practices could help novice employees do their work efficiently. Understanding experts' experiences and intuition could help organisations maintain critical knowledge!! known as tacit knowledge. Through tacit knowledge!! organisations could aggregate learnings and cooperate to produce faster and more efficient results. To further advance the concept of tacit knowledge!! Swansea University and British Telecom (BT) would explore different methods to capture physiological data and evaluate the possibility of Artificial Intelligence in the collective management and distribution of tacit knowledge. Through this collaboration!! we would recommend human-centred design methods that would help characterise experts' tacit knowledge and capture it through non-intrusive ways.\",\n",
       " 'https://swanseauniversity-my.sharepoint.com/personal/m_j_roach_swansea_ac_uk/Documents/Apps/Microsoft%20Forms/Human%20Centred%20Research%20Web%20Presence%20form%201/Question/Analysis_P024x_PRANJAL%20JAIN.jpg',\n",
       " '',\n",
       " '',\n",
       " 'Simon Robinson!! Matt Jones!! Alan Dix!! Deepak Sahoo!! Marc Holmes!! Anasol Pena Rios',\n",
       " 'Human Centred Design;Human-Centred AI Interaction;Tangible User Interfaces;']"
      ]
     },
     "execution_count": 13,
     "metadata": {},
     "output_type": "execute_result"
    }
   ],
   "source": [
    "file_reader[0]"
   ]
  },
  {
   "cell_type": "code",
   "execution_count": 14,
   "id": "eb19a131",
   "metadata": {},
   "outputs": [],
   "source": [
    "file_reader = np.array(file_reader)"
   ]
  },
  {
   "cell_type": "code",
   "execution_count": 15,
   "id": "47c71f87",
   "metadata": {},
   "outputs": [],
   "source": [
    "curr_projects = []\n",
    "for path in os.listdir(os.getcwd()+\"\\\\_projects\\\\\"):\n",
    "    curr_projects.append(path)"
   ]
  },
  {
   "cell_type": "code",
   "execution_count": 16,
   "id": "22c3afb2",
   "metadata": {},
   "outputs": [
    {
     "data": {
      "text/plain": [
       "['Muneeb Imtiaz Ahmad.md', 'Pranjal Jain.md', 'Rory Clark.md']"
      ]
     },
     "execution_count": 16,
     "metadata": {},
     "output_type": "execute_result"
    }
   ],
   "source": [
    "curr_projects"
   ]
  },
  {
   "cell_type": "code",
   "execution_count": 17,
   "id": "f1b08661",
   "metadata": {},
   "outputs": [
    {
     "data": {
      "text/plain": [
       "'RORY CLARK'"
      ]
     },
     "execution_count": 17,
     "metadata": {},
     "output_type": "execute_result"
    }
   ],
   "source": [
    "file_reader[2][4]"
   ]
  },
  {
   "cell_type": "code",
   "execution_count": 18,
   "id": "f62650fd",
   "metadata": {},
   "outputs": [],
   "source": [
    "curr_proj = []\n"
   ]
  },
  {
   "cell_type": "code",
   "execution_count": 19,
   "id": "44aec25b",
   "metadata": {},
   "outputs": [],
   "source": [
    "import unicodedata"
   ]
  },
  {
   "cell_type": "code",
   "execution_count": 20,
   "id": "e869d7db",
   "metadata": {},
   "outputs": [],
   "source": [
    "for project in file_reader:\n",
    "    if project[6] in curr_projects:\n",
    "        continue\n",
    "    else:\n",
    "        new_dict = {}\n",
    "        new_dict = {\"title\" : unicodedata.normalize('NFKC',str(project[5].replace(\"!!\",\",\"))) ,\n",
    "                    \"description\": unicodedata.normalize('NFKC',str(project[6].replace(\"!!\",\",\"))),\n",
    "                    \"layout\" : \"project\",\n",
    "                    \"image\" : \"/img/\" + str(project[8]).split(\"/\")[-1].replace(\"%20\", \" \"),\n",
    "                    \"people\" : project[11].replace(\"!!\",\",\").split(\",\"),\n",
    "                    \"topic\" : project[12].split(\";\"),\n",
    "                   }\n",
    "        if not str(project[9]):\n",
    "            pass\n",
    "        else:\n",
    "            new_dict[\"link\"] = project[9]\n",
    "        with open(os.getcwd()+\"\\\\_projects\\\\\"+unicodedata.normalize('NFKC',project[5].replace(\"!!\",\",\"))+\".md\", 'w') as f:\n",
    "            f.write(\"---\\n\")\n",
    "            new_dict = yaml.dump(new_dict, f, sort_keys=False, default_flow_style=False)\n",
    "            f.write(\"--- \\n\")\n",
    "            f.write(unicodedata.normalize('NFKC',project[7].replace(\"!!\",\",\")))"
   ]
  },
  {
   "cell_type": "code",
   "execution_count": null,
   "id": "2680eb94",
   "metadata": {},
   "outputs": [],
   "source": []
  },
  {
   "cell_type": "code",
   "execution_count": null,
   "id": "31e5a13e",
   "metadata": {},
   "outputs": [],
   "source": []
  },
  {
   "cell_type": "code",
   "execution_count": null,
   "id": "2f666a71",
   "metadata": {},
   "outputs": [],
   "source": []
  },
  {
   "cell_type": "code",
   "execution_count": null,
   "id": "d764d1b5",
   "metadata": {},
   "outputs": [],
   "source": []
  }
 ],
 "metadata": {
  "kernelspec": {
   "display_name": "Python 3 (ipykernel)",
   "language": "python",
   "name": "python3"
  },
  "language_info": {
   "codemirror_mode": {
    "name": "ipython",
    "version": 3
   },
   "file_extension": ".py",
   "mimetype": "text/x-python",
   "name": "python",
   "nbconvert_exporter": "python",
   "pygments_lexer": "ipython3",
   "version": "3.8.10"
  }
 },
 "nbformat": 4,
 "nbformat_minor": 5
}
